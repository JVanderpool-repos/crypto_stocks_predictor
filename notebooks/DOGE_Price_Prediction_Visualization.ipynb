{
 "cells": [
  {
   "cell_type": "markdown",
   "id": "3697fde9",
   "metadata": {},
   "source": [
    "# 🐕 DOGE Cryptocurrency Price Prediction Analysis & Visualization\n",
    "\n",
    "This notebook provides comprehensive visualization and analysis of DOGE (Dogecoin) price predictions using our trained LSTM neural network model.\n",
    "\n",
    "## 📊 Features:\n",
    "- **Historical Price Analysis**: Interactive charts of DOGE price history (2020-2025)\n",
    "- **LSTM Model Predictions**: 30-day forward price forecasts\n",
    "- **Technical Analysis**: Moving averages, volatility, and trend analysis\n",
    "- **Interactive Visualizations**: Plotly charts with zoom, hover, and filtering\n",
    "- **Statistical Analysis**: Distribution analysis and prediction confidence intervals\n",
    "- **Performance Metrics**: Model accuracy and prediction reliability assessment\n",
    "\n",
    "**⚠️ Disclaimer**: This analysis is for educational purposes only and should not be considered financial advice."
   ]
  },
  {
   "cell_type": "code",
   "execution_count": 2,
   "id": "f8d170fe",
   "metadata": {},
   "outputs": [
    {
     "name": "stdout",
     "output_type": "stream",
     "text": [
      "✅ All libraries imported successfully!\n",
      "📊 Ready for DOGE price prediction visualization!\n"
     ]
    }
   ],
   "source": [
    "# Import Required Libraries\n",
    "import numpy as np\n",
    "import pandas as pd\n",
    "import matplotlib.pyplot as plt\n",
    "import matplotlib.dates as mdates\n",
    "import seaborn as sns\n",
    "import plotly.graph_objects as go\n",
    "import plotly.express as px\n",
    "from plotly.subplots import make_subplots\n",
    "import warnings\n",
    "warnings.filterwarnings('ignore')\n",
    "\n",
    "# TensorFlow and ML libraries\n",
    "from tensorflow.keras.models import load_model\n",
    "from sklearn.preprocessing import MinMaxScaler\n",
    "from sklearn.metrics import mean_squared_error, mean_absolute_error\n",
    "\n",
    "# Set plotting style\n",
    "plt.style.use('seaborn-v0_8')\n",
    "sns.set_palette(\"husl\")\n",
    "\n",
    "# Display settings\n",
    "pd.set_option('display.max_columns', None)\n",
    "pd.set_option('display.precision', 6)\n",
    "\n",
    "print(\"✅ All libraries imported successfully!\")\n",
    "print(\"📊 Ready for DOGE price prediction visualization!\")"
   ]
  },
  {
   "cell_type": "code",
   "execution_count": 3,
   "id": "c235a778",
   "metadata": {},
   "outputs": [
    {
     "name": "stdout",
     "output_type": "stream",
     "text": [
      "📈 Loading DOGE historical data and trained model...\n"
     ]
    },
    {
     "name": "stderr",
     "output_type": "stream",
     "text": [
      "WARNING:absl:Compiled the loaded model, but the compiled metrics have yet to be built. `model.compile_metrics` will be empty until you train or evaluate the model.\n"
     ]
    },
    {
     "name": "stdout",
     "output_type": "stream",
     "text": [
      "✅ Data loaded: 2095 days of historical data\n",
      "📅 Date range: 2020-01-01 to 2025-09-25\n",
      "💰 Current DOGE price: $0.222706\n",
      "🧠 LSTM model loaded successfully\n",
      "\n",
      "📊 DOGE Price Statistics:\n",
      "All-time high: $0.684777\n",
      "All-time low:  $0.001537\n",
      "Average price: $0.123339\n",
      "Current vs ATH: 32.5%\n"
     ]
    }
   ],
   "source": [
    "# Load DOGE Historical Data and Model\n",
    "print(\"📈 Loading DOGE historical data and trained model...\")\n",
    "\n",
    "# Load the historical data\n",
    "data_path = '../data/DOGE-USD_historical_data.csv'\n",
    "model_path = '../models/DOGE-USD_predictor_model.h5'\n",
    "\n",
    "try:\n",
    "    # Load data\n",
    "    doge_data = pd.read_csv(data_path)\n",
    "    doge_data['Date'] = pd.to_datetime(doge_data['Date'])\n",
    "    doge_data = doge_data.sort_values('Date')\n",
    "    \n",
    "    # Load trained LSTM model\n",
    "    model = load_model(model_path)\n",
    "    \n",
    "    print(f\"✅ Data loaded: {len(doge_data)} days of historical data\")\n",
    "    print(f\"📅 Date range: {doge_data['Date'].min().date()} to {doge_data['Date'].max().date()}\")\n",
    "    print(f\"💰 Current DOGE price: ${doge_data['Close'].iloc[-1]:.6f}\")\n",
    "    print(f\"🧠 LSTM model loaded successfully\")\n",
    "    \n",
    "    # Display basic statistics\n",
    "    print(\"\\n📊 DOGE Price Statistics:\")\n",
    "    print(f\"All-time high: ${doge_data['Close'].max():.6f}\")\n",
    "    print(f\"All-time low:  ${doge_data['Close'].min():.6f}\")\n",
    "    print(f\"Average price: ${doge_data['Close'].mean():.6f}\")\n",
    "    print(f\"Current vs ATH: {(doge_data['Close'].iloc[-1] / doge_data['Close'].max() * 100):.1f}%\")\n",
    "    \n",
    "except Exception as e:\n",
    "    print(f\"❌ Error loading data or model: {e}\")\n",
    "    print(\"Make sure the data collection and model training scripts have been run first!\")"
   ]
  },
  {
   "cell_type": "code",
   "execution_count": 4,
   "id": "0e2ff2ed",
   "metadata": {},
   "outputs": [
    {
     "name": "stdout",
     "output_type": "stream",
     "text": [
      "🔮 Generating 30-day price predictions...\n",
      "✅ Generated 30 days of predictions\n",
      "📈 Prediction range: $0.187466 - $0.227931\n",
      "📊 Average predicted price: $0.207381\n",
      "📉 Expected change: -6.9%\n",
      "\n",
      "🔮 First 7 days predictions:\n",
      "Day 1 (2025-09-26): $0.227931 (+2.3%)\n",
      "Day 2 (2025-09-27): $0.225072 (+1.1%)\n",
      "Day 3 (2025-09-28): $0.223622 (+0.4%)\n",
      "Day 4 (2025-09-29): $0.222601 (-0.0%)\n",
      "Day 5 (2025-09-30): $0.221685 (-0.5%)\n",
      "Day 6 (2025-10-01): $0.220729 (-0.9%)\n",
      "Day 7 (2025-10-02): $0.219665 (-1.4%)\n"
     ]
    }
   ],
   "source": [
    "# Generate LSTM Predictions\n",
    "print(\"🔮 Generating 30-day price predictions...\")\n",
    "\n",
    "def generate_predictions(data, model, days_ahead=30, sequence_length=60):\n",
    "    \"\"\"Generate future price predictions using the trained LSTM model\"\"\"\n",
    "    \n",
    "    # Prepare the data\n",
    "    close_prices = data['Close'].values.reshape(-1, 1)\n",
    "    scaler = MinMaxScaler(feature_range=(0, 1))\n",
    "    scaled_data = scaler.fit_transform(close_prices)\n",
    "    \n",
    "    # Get the last sequence for prediction\n",
    "    last_sequence = scaled_data[-sequence_length:]\n",
    "    current_batch = last_sequence.reshape(1, sequence_length, 1)\n",
    "    \n",
    "    # Generate predictions\n",
    "    future_predictions = []\n",
    "    for i in range(days_ahead):\n",
    "        next_prediction = model.predict(current_batch, verbose=0)[0]\n",
    "        future_predictions.append(next_prediction)\n",
    "        # Update batch for next prediction\n",
    "        current_batch = np.append(current_batch[:, 1:, :], [[next_prediction]], axis=1)\n",
    "    \n",
    "    # Convert back to actual prices\n",
    "    predicted_prices = scaler.inverse_transform(future_predictions)\n",
    "    \n",
    "    # Create future dates\n",
    "    last_date = data['Date'].iloc[-1]\n",
    "    future_dates = pd.date_range(start=last_date + pd.Timedelta(days=1), periods=days_ahead)\n",
    "    \n",
    "    # Create predictions dataframe\n",
    "    predictions_df = pd.DataFrame({\n",
    "        'Date': future_dates,\n",
    "        'Predicted_Price': predicted_prices.flatten()\n",
    "    })\n",
    "    \n",
    "    return predictions_df, scaler\n",
    "\n",
    "# Generate predictions\n",
    "try:\n",
    "    predictions_df, scaler = generate_predictions(doge_data, model)\n",
    "    \n",
    "    current_price = doge_data['Close'].iloc[-1]\n",
    "    avg_prediction = predictions_df['Predicted_Price'].mean()\n",
    "    \n",
    "    print(f\"✅ Generated {len(predictions_df)} days of predictions\")\n",
    "    print(f\"📈 Prediction range: ${predictions_df['Predicted_Price'].min():.6f} - ${predictions_df['Predicted_Price'].max():.6f}\")\n",
    "    print(f\"📊 Average predicted price: ${avg_prediction:.6f}\")\n",
    "    print(f\"📉 Expected change: {((avg_prediction / current_price) - 1) * 100:.1f}%\")\n",
    "    \n",
    "    # Display first few predictions\n",
    "    print(\"\\n🔮 First 7 days predictions:\")\n",
    "    for i, (date, price) in enumerate(zip(predictions_df['Date'].head(7), predictions_df['Predicted_Price'].head(7))):\n",
    "        change = ((price / current_price) - 1) * 100\n",
    "        print(f\"Day {i+1} ({date.strftime('%Y-%m-%d')}): ${price:.6f} ({change:+.1f}%)\")\n",
    "        \n",
    "except Exception as e:\n",
    "    print(f\"❌ Error generating predictions: {e}\")"
   ]
  },
  {
   "cell_type": "markdown",
   "id": "0de3d581",
   "metadata": {},
   "source": [
    "## 📈 Interactive Price Visualization\n",
    "\n",
    "Let's create interactive charts to visualize the DOGE price history and predictions using Plotly."
   ]
  },
  {
   "cell_type": "code",
   "execution_count": 5,
   "id": "e3b234f2",
   "metadata": {},
   "outputs": [
    {
     "data": {
      "application/vnd.plotly.v1+json": {
       "config": {
        "plotlyServerURL": "https://plot.ly"
       },
       "data": [
        {
         "hovertemplate": "<b>Date</b>: %{x}<br><b>Price</b>: $%{y:.6f}<extra></extra>",
         "line": {
          "color": "#1f77b4",
          "width": 2
         },
         "mode": "lines",
         "name": "Historical Price",
         "type": "scatter",
         "x": [
          "2024-09-26T00:00:00.000000000",
          "2024-09-27T00:00:00.000000000",
          "2024-09-28T00:00:00.000000000",
          "2024-09-29T00:00:00.000000000",
          "2024-09-30T00:00:00.000000000",
          "2024-10-01T00:00:00.000000000",
          "2024-10-02T00:00:00.000000000",
          "2024-10-03T00:00:00.000000000",
          "2024-10-04T00:00:00.000000000",
          "2024-10-05T00:00:00.000000000",
          "2024-10-06T00:00:00.000000000",
          "2024-10-07T00:00:00.000000000",
          "2024-10-08T00:00:00.000000000",
          "2024-10-09T00:00:00.000000000",
          "2024-10-10T00:00:00.000000000",
          "2024-10-11T00:00:00.000000000",
          "2024-10-12T00:00:00.000000000",
          "2024-10-13T00:00:00.000000000",
          "2024-10-14T00:00:00.000000000",
          "2024-10-15T00:00:00.000000000",
          "2024-10-16T00:00:00.000000000",
          "2024-10-17T00:00:00.000000000",
          "2024-10-18T00:00:00.000000000",
          "2024-10-19T00:00:00.000000000",
          "2024-10-20T00:00:00.000000000",
          "2024-10-21T00:00:00.000000000",
          "2024-10-22T00:00:00.000000000",
          "2024-10-23T00:00:00.000000000",
          "2024-10-24T00:00:00.000000000",
          "2024-10-25T00:00:00.000000000",
          "2024-10-26T00:00:00.000000000",
          "2024-10-27T00:00:00.000000000",
          "2024-10-28T00:00:00.000000000",
          "2024-10-29T00:00:00.000000000",
          "2024-10-30T00:00:00.000000000",
          "2024-10-31T00:00:00.000000000",
          "2024-11-01T00:00:00.000000000",
          "2024-11-02T00:00:00.000000000",
          "2024-11-03T00:00:00.000000000",
          "2024-11-04T00:00:00.000000000",
          "2024-11-05T00:00:00.000000000",
          "2024-11-06T00:00:00.000000000",
          "2024-11-07T00:00:00.000000000",
          "2024-11-08T00:00:00.000000000",
          "2024-11-09T00:00:00.000000000",
          "2024-11-10T00:00:00.000000000",
          "2024-11-11T00:00:00.000000000",
          "2024-11-12T00:00:00.000000000",
          "2024-11-13T00:00:00.000000000",
          "2024-11-14T00:00:00.000000000",
          "2024-11-15T00:00:00.000000000",
          "2024-11-16T00:00:00.000000000",
          "2024-11-17T00:00:00.000000000",
          "2024-11-18T00:00:00.000000000",
          "2024-11-19T00:00:00.000000000",
          "2024-11-20T00:00:00.000000000",
          "2024-11-21T00:00:00.000000000",
          "2024-11-22T00:00:00.000000000",
          "2024-11-23T00:00:00.000000000",
          "2024-11-24T00:00:00.000000000",
          "2024-11-25T00:00:00.000000000",
          "2024-11-26T00:00:00.000000000",
          "2024-11-27T00:00:00.000000000",
          "2024-11-28T00:00:00.000000000",
          "2024-11-29T00:00:00.000000000",
          "2024-11-30T00:00:00.000000000",
          "2024-12-01T00:00:00.000000000",
          "2024-12-02T00:00:00.000000000",
          "2024-12-03T00:00:00.000000000",
          "2024-12-04T00:00:00.000000000",
          "2024-12-05T00:00:00.000000000",
          "2024-12-06T00:00:00.000000000",
          "2024-12-07T00:00:00.000000000",
          "2024-12-08T00:00:00.000000000",
          "2024-12-09T00:00:00.000000000",
          "2024-12-10T00:00:00.000000000",
          "2024-12-11T00:00:00.000000000",
          "2024-12-12T00:00:00.000000000",
          "2024-12-13T00:00:00.000000000",
          "2024-12-14T00:00:00.000000000",
          "2024-12-15T00:00:00.000000000",
          "2024-12-16T00:00:00.000000000",
          "2024-12-17T00:00:00.000000000",
          "2024-12-18T00:00:00.000000000",
          "2024-12-19T00:00:00.000000000",
          "2024-12-20T00:00:00.000000000",
          "2024-12-21T00:00:00.000000000",
          "2024-12-22T00:00:00.000000000",
          "2024-12-23T00:00:00.000000000",
          "2024-12-24T00:00:00.000000000",
          "2024-12-25T00:00:00.000000000",
          "2024-12-26T00:00:00.000000000",
          "2024-12-27T00:00:00.000000000",
          "2024-12-28T00:00:00.000000000",
          "2024-12-29T00:00:00.000000000",
          "2024-12-30T00:00:00.000000000",
          "2024-12-31T00:00:00.000000000",
          "2025-01-01T00:00:00.000000000",
          "2025-01-02T00:00:00.000000000",
          "2025-01-03T00:00:00.000000000",
          "2025-01-04T00:00:00.000000000",
          "2025-01-05T00:00:00.000000000",
          "2025-01-06T00:00:00.000000000",
          "2025-01-07T00:00:00.000000000",
          "2025-01-08T00:00:00.000000000",
          "2025-01-09T00:00:00.000000000",
          "2025-01-10T00:00:00.000000000",
          "2025-01-11T00:00:00.000000000",
          "2025-01-12T00:00:00.000000000",
          "2025-01-13T00:00:00.000000000",
          "2025-01-14T00:00:00.000000000",
          "2025-01-15T00:00:00.000000000",
          "2025-01-16T00:00:00.000000000",
          "2025-01-17T00:00:00.000000000",
          "2025-01-18T00:00:00.000000000",
          "2025-01-19T00:00:00.000000000",
          "2025-01-20T00:00:00.000000000",
          "2025-01-21T00:00:00.000000000",
          "2025-01-22T00:00:00.000000000",
          "2025-01-23T00:00:00.000000000",
          "2025-01-24T00:00:00.000000000",
          "2025-01-25T00:00:00.000000000",
          "2025-01-26T00:00:00.000000000",
          "2025-01-27T00:00:00.000000000",
          "2025-01-28T00:00:00.000000000",
          "2025-01-29T00:00:00.000000000",
          "2025-01-30T00:00:00.000000000",
          "2025-01-31T00:00:00.000000000",
          "2025-02-01T00:00:00.000000000",
          "2025-02-02T00:00:00.000000000",
          "2025-02-03T00:00:00.000000000",
          "2025-02-04T00:00:00.000000000",
          "2025-02-05T00:00:00.000000000",
          "2025-02-06T00:00:00.000000000",
          "2025-02-07T00:00:00.000000000",
          "2025-02-08T00:00:00.000000000",
          "2025-02-09T00:00:00.000000000",
          "2025-02-10T00:00:00.000000000",
          "2025-02-11T00:00:00.000000000",
          "2025-02-12T00:00:00.000000000",
          "2025-02-13T00:00:00.000000000",
          "2025-02-14T00:00:00.000000000",
          "2025-02-15T00:00:00.000000000",
          "2025-02-16T00:00:00.000000000",
          "2025-02-17T00:00:00.000000000",
          "2025-02-18T00:00:00.000000000",
          "2025-02-19T00:00:00.000000000",
          "2025-02-20T00:00:00.000000000",
          "2025-02-21T00:00:00.000000000",
          "2025-02-22T00:00:00.000000000",
          "2025-02-23T00:00:00.000000000",
          "2025-02-24T00:00:00.000000000",
          "2025-02-25T00:00:00.000000000",
          "2025-02-26T00:00:00.000000000",
          "2025-02-27T00:00:00.000000000",
          "2025-02-28T00:00:00.000000000",
          "2025-03-01T00:00:00.000000000",
          "2025-03-02T00:00:00.000000000",
          "2025-03-03T00:00:00.000000000",
          "2025-03-04T00:00:00.000000000",
          "2025-03-05T00:00:00.000000000",
          "2025-03-06T00:00:00.000000000",
          "2025-03-07T00:00:00.000000000",
          "2025-03-08T00:00:00.000000000",
          "2025-03-09T00:00:00.000000000",
          "2025-03-10T00:00:00.000000000",
          "2025-03-11T00:00:00.000000000",
          "2025-03-12T00:00:00.000000000",
          "2025-03-13T00:00:00.000000000",
          "2025-03-14T00:00:00.000000000",
          "2025-03-15T00:00:00.000000000",
          "2025-03-16T00:00:00.000000000",
          "2025-03-17T00:00:00.000000000",
          "2025-03-18T00:00:00.000000000",
          "2025-03-19T00:00:00.000000000",
          "2025-03-20T00:00:00.000000000",
          "2025-03-21T00:00:00.000000000",
          "2025-03-22T00:00:00.000000000",
          "2025-03-23T00:00:00.000000000",
          "2025-03-24T00:00:00.000000000",
          "2025-03-25T00:00:00.000000000",
          "2025-03-26T00:00:00.000000000",
          "2025-03-27T00:00:00.000000000",
          "2025-03-28T00:00:00.000000000",
          "2025-03-29T00:00:00.000000000",
          "2025-03-30T00:00:00.000000000",
          "2025-03-31T00:00:00.000000000",
          "2025-04-01T00:00:00.000000000",
          "2025-04-02T00:00:00.000000000",
          "2025-04-03T00:00:00.000000000",
          "2025-04-04T00:00:00.000000000",
          "2025-04-05T00:00:00.000000000",
          "2025-04-06T00:00:00.000000000",
          "2025-04-07T00:00:00.000000000",
          "2025-04-08T00:00:00.000000000",
          "2025-04-09T00:00:00.000000000",
          "2025-04-10T00:00:00.000000000",
          "2025-04-11T00:00:00.000000000",
          "2025-04-12T00:00:00.000000000",
          "2025-04-13T00:00:00.000000000",
          "2025-04-14T00:00:00.000000000",
          "2025-04-15T00:00:00.000000000",
          "2025-04-16T00:00:00.000000000",
          "2025-04-17T00:00:00.000000000",
          "2025-04-18T00:00:00.000000000",
          "2025-04-19T00:00:00.000000000",
          "2025-04-20T00:00:00.000000000",
          "2025-04-21T00:00:00.000000000",
          "2025-04-22T00:00:00.000000000",
          "2025-04-23T00:00:00.000000000",
          "2025-04-24T00:00:00.000000000",
          "2025-04-25T00:00:00.000000000",
          "2025-04-26T00:00:00.000000000",
          "2025-04-27T00:00:00.000000000",
          "2025-04-28T00:00:00.000000000",
          "2025-04-29T00:00:00.000000000",
          "2025-04-30T00:00:00.000000000",
          "2025-05-01T00:00:00.000000000",
          "2025-05-02T00:00:00.000000000",
          "2025-05-03T00:00:00.000000000",
          "2025-05-04T00:00:00.000000000",
          "2025-05-05T00:00:00.000000000",
          "2025-05-06T00:00:00.000000000",
          "2025-05-07T00:00:00.000000000",
          "2025-05-08T00:00:00.000000000",
          "2025-05-09T00:00:00.000000000",
          "2025-05-10T00:00:00.000000000",
          "2025-05-11T00:00:00.000000000",
          "2025-05-12T00:00:00.000000000",
          "2025-05-13T00:00:00.000000000",
          "2025-05-14T00:00:00.000000000",
          "2025-05-15T00:00:00.000000000",
          "2025-05-16T00:00:00.000000000",
          "2025-05-17T00:00:00.000000000",
          "2025-05-18T00:00:00.000000000",
          "2025-05-19T00:00:00.000000000",
          "2025-05-20T00:00:00.000000000",
          "2025-05-21T00:00:00.000000000",
          "2025-05-22T00:00:00.000000000",
          "2025-05-23T00:00:00.000000000",
          "2025-05-24T00:00:00.000000000",
          "2025-05-25T00:00:00.000000000",
          "2025-05-26T00:00:00.000000000",
          "2025-05-27T00:00:00.000000000",
          "2025-05-28T00:00:00.000000000",
          "2025-05-29T00:00:00.000000000",
          "2025-05-30T00:00:00.000000000",
          "2025-05-31T00:00:00.000000000",
          "2025-06-01T00:00:00.000000000",
          "2025-06-02T00:00:00.000000000",
          "2025-06-03T00:00:00.000000000",
          "2025-06-04T00:00:00.000000000",
          "2025-06-05T00:00:00.000000000",
          "2025-06-06T00:00:00.000000000",
          "2025-06-07T00:00:00.000000000",
          "2025-06-08T00:00:00.000000000",
          "2025-06-09T00:00:00.000000000",
          "2025-06-10T00:00:00.000000000",
          "2025-06-11T00:00:00.000000000",
          "2025-06-12T00:00:00.000000000",
          "2025-06-13T00:00:00.000000000",
          "2025-06-14T00:00:00.000000000",
          "2025-06-15T00:00:00.000000000",
          "2025-06-16T00:00:00.000000000",
          "2025-06-17T00:00:00.000000000",
          "2025-06-18T00:00:00.000000000",
          "2025-06-19T00:00:00.000000000",
          "2025-06-20T00:00:00.000000000",
          "2025-06-21T00:00:00.000000000",
          "2025-06-22T00:00:00.000000000",
          "2025-06-23T00:00:00.000000000",
          "2025-06-24T00:00:00.000000000",
          "2025-06-25T00:00:00.000000000",
          "2025-06-26T00:00:00.000000000",
          "2025-06-27T00:00:00.000000000",
          "2025-06-28T00:00:00.000000000",
          "2025-06-29T00:00:00.000000000",
          "2025-06-30T00:00:00.000000000",
          "2025-07-01T00:00:00.000000000",
          "2025-07-02T00:00:00.000000000",
          "2025-07-03T00:00:00.000000000",
          "2025-07-04T00:00:00.000000000",
          "2025-07-05T00:00:00.000000000",
          "2025-07-06T00:00:00.000000000",
          "2025-07-07T00:00:00.000000000",
          "2025-07-08T00:00:00.000000000",
          "2025-07-09T00:00:00.000000000",
          "2025-07-10T00:00:00.000000000",
          "2025-07-11T00:00:00.000000000",
          "2025-07-12T00:00:00.000000000",
          "2025-07-13T00:00:00.000000000",
          "2025-07-14T00:00:00.000000000",
          "2025-07-15T00:00:00.000000000",
          "2025-07-16T00:00:00.000000000",
          "2025-07-17T00:00:00.000000000",
          "2025-07-18T00:00:00.000000000",
          "2025-07-19T00:00:00.000000000",
          "2025-07-20T00:00:00.000000000",
          "2025-07-21T00:00:00.000000000",
          "2025-07-22T00:00:00.000000000",
          "2025-07-23T00:00:00.000000000",
          "2025-07-24T00:00:00.000000000",
          "2025-07-25T00:00:00.000000000",
          "2025-07-26T00:00:00.000000000",
          "2025-07-27T00:00:00.000000000",
          "2025-07-28T00:00:00.000000000",
          "2025-07-29T00:00:00.000000000",
          "2025-07-30T00:00:00.000000000",
          "2025-07-31T00:00:00.000000000",
          "2025-08-01T00:00:00.000000000",
          "2025-08-02T00:00:00.000000000",
          "2025-08-03T00:00:00.000000000",
          "2025-08-04T00:00:00.000000000",
          "2025-08-05T00:00:00.000000000",
          "2025-08-06T00:00:00.000000000",
          "2025-08-07T00:00:00.000000000",
          "2025-08-08T00:00:00.000000000",
          "2025-08-09T00:00:00.000000000",
          "2025-08-10T00:00:00.000000000",
          "2025-08-11T00:00:00.000000000",
          "2025-08-12T00:00:00.000000000",
          "2025-08-13T00:00:00.000000000",
          "2025-08-14T00:00:00.000000000",
          "2025-08-15T00:00:00.000000000",
          "2025-08-16T00:00:00.000000000",
          "2025-08-17T00:00:00.000000000",
          "2025-08-18T00:00:00.000000000",
          "2025-08-19T00:00:00.000000000",
          "2025-08-20T00:00:00.000000000",
          "2025-08-21T00:00:00.000000000",
          "2025-08-22T00:00:00.000000000",
          "2025-08-23T00:00:00.000000000",
          "2025-08-24T00:00:00.000000000",
          "2025-08-25T00:00:00.000000000",
          "2025-08-26T00:00:00.000000000",
          "2025-08-27T00:00:00.000000000",
          "2025-08-28T00:00:00.000000000",
          "2025-08-29T00:00:00.000000000",
          "2025-08-30T00:00:00.000000000",
          "2025-08-31T00:00:00.000000000",
          "2025-09-01T00:00:00.000000000",
          "2025-09-02T00:00:00.000000000",
          "2025-09-03T00:00:00.000000000",
          "2025-09-04T00:00:00.000000000",
          "2025-09-05T00:00:00.000000000",
          "2025-09-06T00:00:00.000000000",
          "2025-09-07T00:00:00.000000000",
          "2025-09-08T00:00:00.000000000",
          "2025-09-09T00:00:00.000000000",
          "2025-09-10T00:00:00.000000000",
          "2025-09-11T00:00:00.000000000",
          "2025-09-12T00:00:00.000000000",
          "2025-09-13T00:00:00.000000000",
          "2025-09-14T00:00:00.000000000",
          "2025-09-15T00:00:00.000000000",
          "2025-09-16T00:00:00.000000000",
          "2025-09-17T00:00:00.000000000",
          "2025-09-18T00:00:00.000000000",
          "2025-09-19T00:00:00.000000000",
          "2025-09-20T00:00:00.000000000",
          "2025-09-21T00:00:00.000000000",
          "2025-09-22T00:00:00.000000000",
          "2025-09-23T00:00:00.000000000",
          "2025-09-24T00:00:00.000000000",
          "2025-09-25T00:00:00.000000000"
         ],
         "y": {
          "bdata": "+///P8hAvj/8//9/uKu/P////59KeMA/AAAAoKLqvz/+//8/J0u9P/7//38rZ7s//f//X3zRuj/8//+fxOe6P/7//7+5+Ls//P///1YHvD8AAAAA9Im8P/v//1/Q0Ls/////Pzxnuz/5///f46G7P////1+BIbs/////f/9YvD////8/woW8P/3//x+EgLw/+///XwndvT/+///fPxa+P/7//19UGcA/////H6KYwD////8fMpDBP/7//1/cf8I/////n8Yvwj////8fb2TCP/3//99l28E/AAAAAEW6wT/+//8/oSzCP/7//78IxcA//f///+mUwT////+/0HjCPwAAACCQoMQ//v//f+SBxj/////fzoXFP/7//3/Wp8Q/AAAAoCxgxD////9/d2TEP/7//z/YYsM/AAAAgK5ExD////8/dcjFP/3//98WLMk/////H2+5yD/9//8fdt/JP/7//z9cAMw/////P7Hc0T8AAABgjV7WPwAAACBPdtg/AAAA4MiR2T////8/NSXXP/////+hRNg/AAAAwKVH1z8AAAAguHXXP////7+aytc/AAAAAPoL2T////8f6SjYP////3+3ztg/////v1ht2j8AAAAAUYXbPwAAAMAvg9s/////f3ss2T8AAADAu87YP////9+Vstk/AAAAwKm62T////8/8kDbP////5+SAds/AAAAQFYp3D8AAAAgyy3bPwAAACC9Gto/AAAAAC+l2z8AAACguI7bP/////+n4ts/AAAAAHwM3T8AAACgMejdP////3/Bito/////39A/2T////9/CYfaP////9/hBNo/////H2Iu2j////9fcHjZPwAAAEBcANo/AAAAYEm52T8AAABA0TzZPwAAAGAc6tY/////nwoq1D8AAADgaFXUP////x92itQ/////H/T60z8AAAAAAcDUPwAAAKApkNU/////f3tl1T////+fAPzTP////38D6NM/////vxa71D////+f0R3UP/////+cENQ/////Hx401D//////bcHUPwAAAEDJq9U/AAAAYBtG2D////+/hEPZPwAAAIDpe9g/////n0nU2D////+/ykzWP////x9k59U/AAAAgNKJ1D8AAADg8V/VPwAAAOA00tU/////H1qA1T8AAADgsKbVPwAAAICrytY/AAAAAHmv2D8AAACgoxzYP////5++nto/////H2RZ2T////+ffeXWPwAAAMDlsdY/AAAA4OrH1z8AAABATzzXPwAAAKDzjNY/AAAAIIZy1j8AAAAgRKTWPwAAAIBdhtU//////1Zd1T////9ftWvUP////x8wutQ/AAAAgHE31T////8f4QnVP/////8evNM/////H94e0T////9fgT3SP////z+859A/////Hx9m0D/9//9fN8HPP////78Dkc8/////n4I10D////8fvOjPP/////8tVtA/AAAAoCYz0D//////X+fQP////z+rzNA/AAAA4Ehn0T//////7GPRPwAAAGDiAdE/AAAAQH+F0D8AAAAgww7QPwAAAIAeTtA/AAAAYKBP0D/9////pKHOPwAAAICelM8//v//n2Abzz/+//8/C+3KPwAAACCQL8s/AAAA4CpPyj/+//9/NXnKP/7//3/s2ck//v//381vyj8AAAAgTaDOP////39Se8k/////v519yT/+///fQzTKPwAAAMAw0sk//v//3y1XyT////+fF5nIP////5+ResU/AAAAAD24wz/+//8/ZAPFP/3//5+UEMY/AAAAoNkgxT/9//9/gv3FPwAAAGBlicY//f//f7mIxT/////fGTTGP////1/5gcU/AAAAgNXKxj8AAAAgS63FP/3//59JYsU//v//335rxT/////fYgzGP/3//x/oaMc/AAAAIL1vyD//////I+/IP////98jYsg/////P3cQxz/+//9fTrTFP/7//9/wScU//v//v+pWxT////8/c0jGPwAAAIBXBMU/AAAAwGG+xD8AAAAAiubFP/3//z+tosU//v//X1oNwz/+////gCPDP////9+PMMI/////fwmHxD/9///fU6vDP/7//9/LfcQ/AAAAAEd0xT/+//8/XtbEP////7/CScQ//v//v4anwz8AAAAA0czDP/3//79J78M/AAAA4MIsxD/+///ffCPEP////78R3cM/AAAAgNNmxD8AAAAA8N3GP////1+H3MY/////P8Baxz8AAACgNEbHP////98rSMc/AAAAAH7/xj/9//8f5ufGP/7///94WsY/AAAAwDwPxj8AAABgHCPHP/3//z/qPcc/AAAAoDR/xj/////fpdTFP/7//x9a1sU/AAAAoOUHxj8AAABAUwTGP/////8zSsk/////X/FGyj/9//9/CtXPP////98Nos0/////P3mRzT////8fIuDOP/3///+mzM0//v//n2IOzD/////fIVPMP/3//185e8s/AAAAoKT5zT/9//+/07nMP////1+y8cw//f//v5z1zT/////fE13PP////3+0xsw/AAAAQIjWzD////+fRszMP////x9j7sw/////H/HyzD////+flULMP////9+lf8s//v//v4LCyD8AAADAbabIP//////uyMg/AAAAIIoCyT8AAAAAv7jIP/////8dGMg//f///+f3xT8AAABglujGP////7+Vs8c/////H/uSxz8AAACAkPPIP/7///9NYck/////n5W0yD/+////9jzHP/3//x+xFsc/AAAAwAHYxj/+//9fUnzGPwAAAOD3GsY/////X663xT8AAAAARdfFP/7//58d4sU/////H/vLxD8AAABAz7vDP/7///+EXsM/////v9gJxT////9frDbFP/7//1/kEMU/AAAA4Gt6xD/+//9f4J3EP/3////b88Q//v//v4S1xT/9//8fLSPFP/3//z8vMcQ//////52YxT/+//+/NQXGP//////02MQ/AAAAYN0GxT/9//8fowPGP////9/of8U/AAAAwPfixT/+///f+iLHPwAAACD67sg//v//P4fAyT/+//8/C0LJP////5+Pa8k/////P2tFyT//////I37JPwAAACBLO8s/AAAAYFfoyz8AAACgeTnOP/7//x8+6c4/////P6t30T8AAAAg2GPRPwAAAMDjTdE/AAAAIJbNzj//////UrHNP//////aT84/////n1Ilzj//////odLOPwAAAKA01Mw//v//vz+lzD8AAADgriXMPwAAAGAe3co//f//H3LByT/9//8/s3nIP/7//x9gdMk//v//H9Duyj8AAAAgDJHJP/3//7/LRco/////f0Z3zD/9////pnfNP/3//z/4ws4//v//v/T2zT/+//+/hHzMP/3//79NKs4//f//f8dizz/9//+fhqjMPwAAAOAwQ80/AAAAAHiZzT/+///fOQbOP/3//x9seMw/////vxXCyj////8/eVjMP////x/lfMs//v//P6fLzj/+////ijXOPwAAAICOq80/////P4Pbyj/9//8/qfbLP////5+JBcw/////Xyy3zD8AAADAf2XLP/3//387pcs//v//P0peyz8AAABgmunKP/////8nf8s/AAAAYE87zD/9//8/cjLLPwAAAEBH5Ms//f///yaiyz8AAADAnj3NP/7//9/09c4//f///+3Ozj8AAACAGmnPP////1+zXNA/////v5yg0T//////k4bSP////x9r1NE/AAAA4Dsx0T8AAACg7UPRP////9/jE9I/AAAA4IPX0T////+/GfzQP////7/MItE/AAAAQNS20D////9fcePOPwAAAOC6Ys4//v//XxXhzj/+//9foYHMPw==",
          "dtype": "f8"
         }
        },
        {
         "hovertemplate": "<b>Date</b>: %{x}<br><b>Predicted Price</b>: $%{y:.6f}<extra></extra>",
         "line": {
          "color": "#ff7f0e",
          "dash": "dash",
          "width": 2
         },
         "marker": {
          "size": 4
         },
         "mode": "lines+markers",
         "name": "30-Day Predictions",
         "type": "scatter",
         "x": [
          "2025-09-26T00:00:00.000000000",
          "2025-09-27T00:00:00.000000000",
          "2025-09-28T00:00:00.000000000",
          "2025-09-29T00:00:00.000000000",
          "2025-09-30T00:00:00.000000000",
          "2025-10-01T00:00:00.000000000",
          "2025-10-02T00:00:00.000000000",
          "2025-10-03T00:00:00.000000000",
          "2025-10-04T00:00:00.000000000",
          "2025-10-05T00:00:00.000000000",
          "2025-10-06T00:00:00.000000000",
          "2025-10-07T00:00:00.000000000",
          "2025-10-08T00:00:00.000000000",
          "2025-10-09T00:00:00.000000000",
          "2025-10-10T00:00:00.000000000",
          "2025-10-11T00:00:00.000000000",
          "2025-10-12T00:00:00.000000000",
          "2025-10-13T00:00:00.000000000",
          "2025-10-14T00:00:00.000000000",
          "2025-10-15T00:00:00.000000000",
          "2025-10-16T00:00:00.000000000",
          "2025-10-17T00:00:00.000000000",
          "2025-10-18T00:00:00.000000000",
          "2025-10-19T00:00:00.000000000",
          "2025-10-20T00:00:00.000000000",
          "2025-10-21T00:00:00.000000000",
          "2025-10-22T00:00:00.000000000",
          "2025-10-23T00:00:00.000000000",
          "2025-10-24T00:00:00.000000000",
          "2025-10-25T00:00:00.000000000"
         ],
         "y": {
          "bdata": "lco3NNkszT8q/n/YLM/MP/DDXaijn8w/YOql4C1+zD9jHsBzKGDMP5pXaKHWQMw/Q0re4fwdzD8D49kL2/bLP6s27aGhy8s/Wgd3XAydyz9W62mdFGzLP7P4uIi3Ocs/eBg84dQGyz8UGZYMG9TKP9vFv/kCoso/oY98WdJwyj+vnUSypUDKP9s7XRZ5Eco/csjxmzTjyT+NHIk4tLXJP5nLBibRiMk/Wp0IymRcyT+ZsLjVTTDJP4lMtvRwBMk/gkmKJLnYyD/6EKe0F63IP13G3LyCgcg/h9hB6/NVyD8mNu2vaCrIP0ECsKbe/sc/",
          "dtype": "f8"
         }
        },
        {
         "hovertemplate": "<b>Current Price</b><br>Date: %{x}<br>Price: $%{y:.6f}<extra></extra>",
         "marker": {
          "color": "red",
          "size": 10,
          "symbol": "circle"
         },
         "mode": "markers",
         "name": "Current Price",
         "type": "scatter",
         "x": [
          "2025-09-25T00:00:00"
         ],
         "y": [
          0.2227060049772262
         ]
        }
       ],
       "layout": {
        "height": 600,
        "hovermode": "x unified",
        "legend": {
         "x": 0.01,
         "y": 0.99
        },
        "template": {
         "data": {
          "bar": [
           {
            "error_x": {
             "color": "#2a3f5f"
            },
            "error_y": {
             "color": "#2a3f5f"
            },
            "marker": {
             "line": {
              "color": "white",
              "width": 0.5
             },
             "pattern": {
              "fillmode": "overlay",
              "size": 10,
              "solidity": 0.2
             }
            },
            "type": "bar"
           }
          ],
          "barpolar": [
           {
            "marker": {
             "line": {
              "color": "white",
              "width": 0.5
             },
             "pattern": {
              "fillmode": "overlay",
              "size": 10,
              "solidity": 0.2
             }
            },
            "type": "barpolar"
           }
          ],
          "carpet": [
           {
            "aaxis": {
             "endlinecolor": "#2a3f5f",
             "gridcolor": "#C8D4E3",
             "linecolor": "#C8D4E3",
             "minorgridcolor": "#C8D4E3",
             "startlinecolor": "#2a3f5f"
            },
            "baxis": {
             "endlinecolor": "#2a3f5f",
             "gridcolor": "#C8D4E3",
             "linecolor": "#C8D4E3",
             "minorgridcolor": "#C8D4E3",
             "startlinecolor": "#2a3f5f"
            },
            "type": "carpet"
           }
          ],
          "choropleth": [
           {
            "colorbar": {
             "outlinewidth": 0,
             "ticks": ""
            },
            "type": "choropleth"
           }
          ],
          "contour": [
           {
            "colorbar": {
             "outlinewidth": 0,
             "ticks": ""
            },
            "colorscale": [
             [
              0,
              "#0d0887"
             ],
             [
              0.1111111111111111,
              "#46039f"
             ],
             [
              0.2222222222222222,
              "#7201a8"
             ],
             [
              0.3333333333333333,
              "#9c179e"
             ],
             [
              0.4444444444444444,
              "#bd3786"
             ],
             [
              0.5555555555555556,
              "#d8576b"
             ],
             [
              0.6666666666666666,
              "#ed7953"
             ],
             [
              0.7777777777777778,
              "#fb9f3a"
             ],
             [
              0.8888888888888888,
              "#fdca26"
             ],
             [
              1,
              "#f0f921"
             ]
            ],
            "type": "contour"
           }
          ],
          "contourcarpet": [
           {
            "colorbar": {
             "outlinewidth": 0,
             "ticks": ""
            },
            "type": "contourcarpet"
           }
          ],
          "heatmap": [
           {
            "colorbar": {
             "outlinewidth": 0,
             "ticks": ""
            },
            "colorscale": [
             [
              0,
              "#0d0887"
             ],
             [
              0.1111111111111111,
              "#46039f"
             ],
             [
              0.2222222222222222,
              "#7201a8"
             ],
             [
              0.3333333333333333,
              "#9c179e"
             ],
             [
              0.4444444444444444,
              "#bd3786"
             ],
             [
              0.5555555555555556,
              "#d8576b"
             ],
             [
              0.6666666666666666,
              "#ed7953"
             ],
             [
              0.7777777777777778,
              "#fb9f3a"
             ],
             [
              0.8888888888888888,
              "#fdca26"
             ],
             [
              1,
              "#f0f921"
             ]
            ],
            "type": "heatmap"
           }
          ],
          "histogram": [
           {
            "marker": {
             "pattern": {
              "fillmode": "overlay",
              "size": 10,
              "solidity": 0.2
             }
            },
            "type": "histogram"
           }
          ],
          "histogram2d": [
           {
            "colorbar": {
             "outlinewidth": 0,
             "ticks": ""
            },
            "colorscale": [
             [
              0,
              "#0d0887"
             ],
             [
              0.1111111111111111,
              "#46039f"
             ],
             [
              0.2222222222222222,
              "#7201a8"
             ],
             [
              0.3333333333333333,
              "#9c179e"
             ],
             [
              0.4444444444444444,
              "#bd3786"
             ],
             [
              0.5555555555555556,
              "#d8576b"
             ],
             [
              0.6666666666666666,
              "#ed7953"
             ],
             [
              0.7777777777777778,
              "#fb9f3a"
             ],
             [
              0.8888888888888888,
              "#fdca26"
             ],
             [
              1,
              "#f0f921"
             ]
            ],
            "type": "histogram2d"
           }
          ],
          "histogram2dcontour": [
           {
            "colorbar": {
             "outlinewidth": 0,
             "ticks": ""
            },
            "colorscale": [
             [
              0,
              "#0d0887"
             ],
             [
              0.1111111111111111,
              "#46039f"
             ],
             [
              0.2222222222222222,
              "#7201a8"
             ],
             [
              0.3333333333333333,
              "#9c179e"
             ],
             [
              0.4444444444444444,
              "#bd3786"
             ],
             [
              0.5555555555555556,
              "#d8576b"
             ],
             [
              0.6666666666666666,
              "#ed7953"
             ],
             [
              0.7777777777777778,
              "#fb9f3a"
             ],
             [
              0.8888888888888888,
              "#fdca26"
             ],
             [
              1,
              "#f0f921"
             ]
            ],
            "type": "histogram2dcontour"
           }
          ],
          "mesh3d": [
           {
            "colorbar": {
             "outlinewidth": 0,
             "ticks": ""
            },
            "type": "mesh3d"
           }
          ],
          "parcoords": [
           {
            "line": {
             "colorbar": {
              "outlinewidth": 0,
              "ticks": ""
             }
            },
            "type": "parcoords"
           }
          ],
          "pie": [
           {
            "automargin": true,
            "type": "pie"
           }
          ],
          "scatter": [
           {
            "fillpattern": {
             "fillmode": "overlay",
             "size": 10,
             "solidity": 0.2
            },
            "type": "scatter"
           }
          ],
          "scatter3d": [
           {
            "line": {
             "colorbar": {
              "outlinewidth": 0,
              "ticks": ""
             }
            },
            "marker": {
             "colorbar": {
              "outlinewidth": 0,
              "ticks": ""
             }
            },
            "type": "scatter3d"
           }
          ],
          "scattercarpet": [
           {
            "marker": {
             "colorbar": {
              "outlinewidth": 0,
              "ticks": ""
             }
            },
            "type": "scattercarpet"
           }
          ],
          "scattergeo": [
           {
            "marker": {
             "colorbar": {
              "outlinewidth": 0,
              "ticks": ""
             }
            },
            "type": "scattergeo"
           }
          ],
          "scattergl": [
           {
            "marker": {
             "colorbar": {
              "outlinewidth": 0,
              "ticks": ""
             }
            },
            "type": "scattergl"
           }
          ],
          "scattermap": [
           {
            "marker": {
             "colorbar": {
              "outlinewidth": 0,
              "ticks": ""
             }
            },
            "type": "scattermap"
           }
          ],
          "scattermapbox": [
           {
            "marker": {
             "colorbar": {
              "outlinewidth": 0,
              "ticks": ""
             }
            },
            "type": "scattermapbox"
           }
          ],
          "scatterpolar": [
           {
            "marker": {
             "colorbar": {
              "outlinewidth": 0,
              "ticks": ""
             }
            },
            "type": "scatterpolar"
           }
          ],
          "scatterpolargl": [
           {
            "marker": {
             "colorbar": {
              "outlinewidth": 0,
              "ticks": ""
             }
            },
            "type": "scatterpolargl"
           }
          ],
          "scatterternary": [
           {
            "marker": {
             "colorbar": {
              "outlinewidth": 0,
              "ticks": ""
             }
            },
            "type": "scatterternary"
           }
          ],
          "surface": [
           {
            "colorbar": {
             "outlinewidth": 0,
             "ticks": ""
            },
            "colorscale": [
             [
              0,
              "#0d0887"
             ],
             [
              0.1111111111111111,
              "#46039f"
             ],
             [
              0.2222222222222222,
              "#7201a8"
             ],
             [
              0.3333333333333333,
              "#9c179e"
             ],
             [
              0.4444444444444444,
              "#bd3786"
             ],
             [
              0.5555555555555556,
              "#d8576b"
             ],
             [
              0.6666666666666666,
              "#ed7953"
             ],
             [
              0.7777777777777778,
              "#fb9f3a"
             ],
             [
              0.8888888888888888,
              "#fdca26"
             ],
             [
              1,
              "#f0f921"
             ]
            ],
            "type": "surface"
           }
          ],
          "table": [
           {
            "cells": {
             "fill": {
              "color": "#EBF0F8"
             },
             "line": {
              "color": "white"
             }
            },
            "header": {
             "fill": {
              "color": "#C8D4E3"
             },
             "line": {
              "color": "white"
             }
            },
            "type": "table"
           }
          ]
         },
         "layout": {
          "annotationdefaults": {
           "arrowcolor": "#2a3f5f",
           "arrowhead": 0,
           "arrowwidth": 1
          },
          "autotypenumbers": "strict",
          "coloraxis": {
           "colorbar": {
            "outlinewidth": 0,
            "ticks": ""
           }
          },
          "colorscale": {
           "diverging": [
            [
             0,
             "#8e0152"
            ],
            [
             0.1,
             "#c51b7d"
            ],
            [
             0.2,
             "#de77ae"
            ],
            [
             0.3,
             "#f1b6da"
            ],
            [
             0.4,
             "#fde0ef"
            ],
            [
             0.5,
             "#f7f7f7"
            ],
            [
             0.6,
             "#e6f5d0"
            ],
            [
             0.7,
             "#b8e186"
            ],
            [
             0.8,
             "#7fbc41"
            ],
            [
             0.9,
             "#4d9221"
            ],
            [
             1,
             "#276419"
            ]
           ],
           "sequential": [
            [
             0,
             "#0d0887"
            ],
            [
             0.1111111111111111,
             "#46039f"
            ],
            [
             0.2222222222222222,
             "#7201a8"
            ],
            [
             0.3333333333333333,
             "#9c179e"
            ],
            [
             0.4444444444444444,
             "#bd3786"
            ],
            [
             0.5555555555555556,
             "#d8576b"
            ],
            [
             0.6666666666666666,
             "#ed7953"
            ],
            [
             0.7777777777777778,
             "#fb9f3a"
            ],
            [
             0.8888888888888888,
             "#fdca26"
            ],
            [
             1,
             "#f0f921"
            ]
           ],
           "sequentialminus": [
            [
             0,
             "#0d0887"
            ],
            [
             0.1111111111111111,
             "#46039f"
            ],
            [
             0.2222222222222222,
             "#7201a8"
            ],
            [
             0.3333333333333333,
             "#9c179e"
            ],
            [
             0.4444444444444444,
             "#bd3786"
            ],
            [
             0.5555555555555556,
             "#d8576b"
            ],
            [
             0.6666666666666666,
             "#ed7953"
            ],
            [
             0.7777777777777778,
             "#fb9f3a"
            ],
            [
             0.8888888888888888,
             "#fdca26"
            ],
            [
             1,
             "#f0f921"
            ]
           ]
          },
          "colorway": [
           "#636efa",
           "#EF553B",
           "#00cc96",
           "#ab63fa",
           "#FFA15A",
           "#19d3f3",
           "#FF6692",
           "#B6E880",
           "#FF97FF",
           "#FECB52"
          ],
          "font": {
           "color": "#2a3f5f"
          },
          "geo": {
           "bgcolor": "white",
           "lakecolor": "white",
           "landcolor": "white",
           "showlakes": true,
           "showland": true,
           "subunitcolor": "#C8D4E3"
          },
          "hoverlabel": {
           "align": "left"
          },
          "hovermode": "closest",
          "mapbox": {
           "style": "light"
          },
          "paper_bgcolor": "white",
          "plot_bgcolor": "white",
          "polar": {
           "angularaxis": {
            "gridcolor": "#EBF0F8",
            "linecolor": "#EBF0F8",
            "ticks": ""
           },
           "bgcolor": "white",
           "radialaxis": {
            "gridcolor": "#EBF0F8",
            "linecolor": "#EBF0F8",
            "ticks": ""
           }
          },
          "scene": {
           "xaxis": {
            "backgroundcolor": "white",
            "gridcolor": "#DFE8F3",
            "gridwidth": 2,
            "linecolor": "#EBF0F8",
            "showbackground": true,
            "ticks": "",
            "zerolinecolor": "#EBF0F8"
           },
           "yaxis": {
            "backgroundcolor": "white",
            "gridcolor": "#DFE8F3",
            "gridwidth": 2,
            "linecolor": "#EBF0F8",
            "showbackground": true,
            "ticks": "",
            "zerolinecolor": "#EBF0F8"
           },
           "zaxis": {
            "backgroundcolor": "white",
            "gridcolor": "#DFE8F3",
            "gridwidth": 2,
            "linecolor": "#EBF0F8",
            "showbackground": true,
            "ticks": "",
            "zerolinecolor": "#EBF0F8"
           }
          },
          "shapedefaults": {
           "line": {
            "color": "#2a3f5f"
           }
          },
          "ternary": {
           "aaxis": {
            "gridcolor": "#DFE8F3",
            "linecolor": "#A2B1C6",
            "ticks": ""
           },
           "baxis": {
            "gridcolor": "#DFE8F3",
            "linecolor": "#A2B1C6",
            "ticks": ""
           },
           "bgcolor": "white",
           "caxis": {
            "gridcolor": "#DFE8F3",
            "linecolor": "#A2B1C6",
            "ticks": ""
           }
          },
          "title": {
           "x": 0.05
          },
          "xaxis": {
           "automargin": true,
           "gridcolor": "#EBF0F8",
           "linecolor": "#EBF0F8",
           "ticks": "",
           "title": {
            "standoff": 15
           },
           "zerolinecolor": "#EBF0F8",
           "zerolinewidth": 2
          },
          "yaxis": {
           "automargin": true,
           "gridcolor": "#EBF0F8",
           "linecolor": "#EBF0F8",
           "ticks": "",
           "title": {
            "standoff": 15
           },
           "zerolinecolor": "#EBF0F8",
           "zerolinewidth": 2
          }
         }
        },
        "title": {
         "font": {
          "size": 18
         },
         "text": "🐕 DOGE Price History & 30-Day LSTM Predictions",
         "x": 0.5
        },
        "width": 1000,
        "xaxis": {
         "rangeselector": {
          "buttons": [
           {
            "count": 30,
            "label": "30D",
            "step": "day",
            "stepmode": "backward"
           },
           {
            "count": 90,
            "label": "90D",
            "step": "day",
            "stepmode": "backward"
           },
           {
            "count": 180,
            "label": "6M",
            "step": "day",
            "stepmode": "backward"
           },
           {
            "label": "All",
            "step": "all"
           }
          ]
         },
         "rangeslider": {
          "visible": true
         },
         "title": {
          "text": "Date"
         },
         "type": "date"
        },
        "yaxis": {
         "tickformat": "$.6f",
         "title": {
          "text": "Price (USD)"
         }
        }
       }
      }
     },
     "metadata": {},
     "output_type": "display_data"
    },
    {
     "name": "stdout",
     "output_type": "stream",
     "text": [
      "📊 Interactive chart displayed above!\n",
      "💡 Use the range selector and zoom controls to explore different time periods\n"
     ]
    }
   ],
   "source": [
    "# Interactive Historical Price Chart with Predictions\n",
    "fig = go.Figure()\n",
    "\n",
    "# Historical prices (last 365 days for better visualization)\n",
    "recent_data = doge_data.tail(365)\n",
    "\n",
    "# Add historical price line\n",
    "fig.add_trace(go.Scatter(\n",
    "    x=recent_data['Date'],\n",
    "    y=recent_data['Close'],\n",
    "    mode='lines',\n",
    "    name='Historical Price',\n",
    "    line=dict(color='#1f77b4', width=2),\n",
    "    hovertemplate='<b>Date</b>: %{x}<br><b>Price</b>: $%{y:.6f}<extra></extra>'\n",
    "))\n",
    "\n",
    "# Add predictions\n",
    "fig.add_trace(go.Scatter(\n",
    "    x=predictions_df['Date'],\n",
    "    y=predictions_df['Predicted_Price'],\n",
    "    mode='lines+markers',\n",
    "    name='30-Day Predictions',\n",
    "    line=dict(color='#ff7f0e', width=2, dash='dash'),\n",
    "    marker=dict(size=4),\n",
    "    hovertemplate='<b>Date</b>: %{x}<br><b>Predicted Price</b>: $%{y:.6f}<extra></extra>'\n",
    "))\n",
    "\n",
    "# Add current price marker\n",
    "current_date = doge_data['Date'].iloc[-1]\n",
    "current_price = doge_data['Close'].iloc[-1]\n",
    "\n",
    "fig.add_trace(go.Scatter(\n",
    "    x=[current_date],\n",
    "    y=[current_price],\n",
    "    mode='markers',\n",
    "    name='Current Price',\n",
    "    marker=dict(color='red', size=10, symbol='circle'),\n",
    "    hovertemplate='<b>Current Price</b><br>Date: %{x}<br>Price: $%{y:.6f}<extra></extra>'\n",
    "))\n",
    "\n",
    "# Update layout\n",
    "fig.update_layout(\n",
    "    title={\n",
    "        'text': '🐕 DOGE Price History & 30-Day LSTM Predictions',\n",
    "        'x': 0.5,\n",
    "        'font': {'size': 18}\n",
    "    },\n",
    "    xaxis_title='Date',\n",
    "    yaxis_title='Price (USD)',\n",
    "    hovermode='x unified',\n",
    "    template='plotly_white',\n",
    "    width=1000,\n",
    "    height=600,\n",
    "    legend=dict(x=0.01, y=0.99),\n",
    "    yaxis=dict(tickformat='$.6f')\n",
    ")\n",
    "\n",
    "# Add range selector\n",
    "fig.update_layout(\n",
    "    xaxis=dict(\n",
    "        rangeselector=dict(\n",
    "            buttons=list([\n",
    "                dict(count=30, label=\"30D\", step=\"day\", stepmode=\"backward\"),\n",
    "                dict(count=90, label=\"90D\", step=\"day\", stepmode=\"backward\"),\n",
    "                dict(count=180, label=\"6M\", step=\"day\", stepmode=\"backward\"),\n",
    "                dict(step=\"all\", label=\"All\")\n",
    "            ])\n",
    "        ),\n",
    "        rangeslider=dict(visible=True),\n",
    "        type=\"date\"\n",
    "    )\n",
    ")\n",
    "\n",
    "fig.show()\n",
    "\n",
    "print(\"📊 Interactive chart displayed above!\")\n",
    "print(\"💡 Use the range selector and zoom controls to explore different time periods\")"
   ]
  },
  {
   "cell_type": "code",
   "execution_count": 6,
   "id": "c6a83458",
   "metadata": {},
   "outputs": [
    {
     "data": {
      "application/vnd.plotly.v1+json": {
       "config": {
        "plotlyServerURL": "https://plot.ly"
       },
       "data": [
        {
         "line": {
          "color": "orange"
         },
         "mode": "lines+markers",
         "name": "Daily Predictions",
         "type": "scatter",
         "x": {
          "bdata": "AQIDBAUGBwgJCgsMDQ4PEBESExQVFhcYGRobHB0e",
          "dtype": "i1"
         },
         "xaxis": "x",
         "y": {
          "bdata": "lco3NNkszT8q/n/YLM/MP/DDXaijn8w/YOql4C1+zD9jHsBzKGDMP5pXaKHWQMw/Q0re4fwdzD8D49kL2/bLP6s27aGhy8s/Wgd3XAydyz9W62mdFGzLP7P4uIi3Ocs/eBg84dQGyz8UGZYMG9TKP9vFv/kCoso/oY98WdJwyj+vnUSypUDKP9s7XRZ5Eco/csjxmzTjyT+NHIk4tLXJP5nLBibRiMk/Wp0IymRcyT+ZsLjVTTDJP4lMtvRwBMk/gkmKJLnYyD/6EKe0F63IP13G3LyCgcg/h9hB6/NVyD8mNu2vaCrIP0ECsKbe/sc/",
          "dtype": "f8"
         },
         "yaxis": "y"
        },
        {
         "marker": {
          "color": "lightblue"
         },
         "name": "Price Distribution",
         "nbinsx": 15,
         "type": "histogram",
         "x": {
          "bdata": "lco3NNkszT8q/n/YLM/MP/DDXaijn8w/YOql4C1+zD9jHsBzKGDMP5pXaKHWQMw/Q0re4fwdzD8D49kL2/bLP6s27aGhy8s/Wgd3XAydyz9W62mdFGzLP7P4uIi3Ocs/eBg84dQGyz8UGZYMG9TKP9vFv/kCoso/oY98WdJwyj+vnUSypUDKP9s7XRZ5Eco/csjxmzTjyT+NHIk4tLXJP5nLBibRiMk/Wp0IymRcyT+ZsLjVTTDJP4lMtvRwBMk/gkmKJLnYyD/6EKe0F63IP13G3LyCgcg/h9hB6/NVyD8mNu2vaCrIP0ECsKbe/sc/",
          "dtype": "f8"
         },
         "xaxis": "x2",
         "yaxis": "y2"
        },
        {
         "marker": {
          "color": [
           "red",
           "green",
           "blue",
           "purple"
          ]
         },
         "name": "Price Comparison",
         "type": "bar",
         "x": [
          "Current Price",
          "Min Prediction",
          "Avg Prediction",
          "Max Prediction"
         ],
         "xaxis": "x3",
         "y": [
          0.2227060049772262,
          0.18746550692596212,
          0.2073806491638061,
          0.2279311661692033
         ],
         "yaxis": "y3"
        },
        {
         "line": {
          "color": "green"
         },
         "mode": "lines+markers",
         "name": "Change %",
         "type": "scatter",
         "x": {
          "bdata": "AQIDBAUGBwgJCgsMDQ4PEBESExQVFhcYGRobHB0e",
          "dtype": "i1"
         },
         "xaxis": "x4",
         "y": {
          "bdata": "mkhnQAzFAkC4oc+LawDxP0DVw8NWUdo/gG7b2pg2qL+4EnRx61rdv8wH+TxDaey/Srwoy7fY9b98wnf5Hm3+v7ENITOa8wPA+wVl3+cOCcD3vjnbIW0OwJirZAVE+RHAyibsaEnDFMDGJMb2EYsXwD8OI8D8SRrAwNVF4Df8HMBwAEgTM6AfwDICwbwSGyHAyN0XUK9fIsDOu18g7J4jwJ4a9DbZ2STAYDNmaoURJsAv2chq2kYnwBdkh/aXeijADCbRdFGtKcA+a5n1bd8qwNnps/oyESzA46dc28xCLcCQtW2RTXQuwMzd9uPFpS/A",
          "dtype": "f8"
         },
         "yaxis": "y4"
        }
       ],
       "layout": {
        "annotations": [
         {
          "font": {
           "size": 16
          },
          "showarrow": false,
          "text": "Daily Predictions",
          "x": 0.225,
          "xanchor": "center",
          "xref": "paper",
          "y": 1,
          "yanchor": "bottom",
          "yref": "paper"
         },
         {
          "font": {
           "size": 16
          },
          "showarrow": false,
          "text": "Price Distribution",
          "x": 0.775,
          "xanchor": "center",
          "xref": "paper",
          "y": 1,
          "yanchor": "bottom",
          "yref": "paper"
         },
         {
          "font": {
           "size": 16
          },
          "showarrow": false,
          "text": "Prediction vs Current",
          "x": 0.225,
          "xanchor": "center",
          "xref": "paper",
          "y": 0.375,
          "yanchor": "bottom",
          "yref": "paper"
         },
         {
          "font": {
           "size": 16
          },
          "showarrow": false,
          "text": "Trend Analysis",
          "x": 0.775,
          "xanchor": "center",
          "xref": "paper",
          "y": 0.375,
          "yanchor": "bottom",
          "yref": "paper"
         },
         {
          "showarrow": false,
          "text": "No Change",
          "x": 1,
          "xanchor": "right",
          "xref": "x4 domain",
          "y": 0,
          "yanchor": "bottom",
          "yref": "y4"
         }
        ],
        "height": 800,
        "shapes": [
         {
          "line": {
           "color": "gray",
           "dash": "dash"
          },
          "type": "line",
          "x0": 0,
          "x1": 1,
          "xref": "x4 domain",
          "y0": 0,
          "y1": 0,
          "yref": "y4"
         }
        ],
        "showlegend": false,
        "template": {
         "data": {
          "bar": [
           {
            "error_x": {
             "color": "#2a3f5f"
            },
            "error_y": {
             "color": "#2a3f5f"
            },
            "marker": {
             "line": {
              "color": "white",
              "width": 0.5
             },
             "pattern": {
              "fillmode": "overlay",
              "size": 10,
              "solidity": 0.2
             }
            },
            "type": "bar"
           }
          ],
          "barpolar": [
           {
            "marker": {
             "line": {
              "color": "white",
              "width": 0.5
             },
             "pattern": {
              "fillmode": "overlay",
              "size": 10,
              "solidity": 0.2
             }
            },
            "type": "barpolar"
           }
          ],
          "carpet": [
           {
            "aaxis": {
             "endlinecolor": "#2a3f5f",
             "gridcolor": "#C8D4E3",
             "linecolor": "#C8D4E3",
             "minorgridcolor": "#C8D4E3",
             "startlinecolor": "#2a3f5f"
            },
            "baxis": {
             "endlinecolor": "#2a3f5f",
             "gridcolor": "#C8D4E3",
             "linecolor": "#C8D4E3",
             "minorgridcolor": "#C8D4E3",
             "startlinecolor": "#2a3f5f"
            },
            "type": "carpet"
           }
          ],
          "choropleth": [
           {
            "colorbar": {
             "outlinewidth": 0,
             "ticks": ""
            },
            "type": "choropleth"
           }
          ],
          "contour": [
           {
            "colorbar": {
             "outlinewidth": 0,
             "ticks": ""
            },
            "colorscale": [
             [
              0,
              "#0d0887"
             ],
             [
              0.1111111111111111,
              "#46039f"
             ],
             [
              0.2222222222222222,
              "#7201a8"
             ],
             [
              0.3333333333333333,
              "#9c179e"
             ],
             [
              0.4444444444444444,
              "#bd3786"
             ],
             [
              0.5555555555555556,
              "#d8576b"
             ],
             [
              0.6666666666666666,
              "#ed7953"
             ],
             [
              0.7777777777777778,
              "#fb9f3a"
             ],
             [
              0.8888888888888888,
              "#fdca26"
             ],
             [
              1,
              "#f0f921"
             ]
            ],
            "type": "contour"
           }
          ],
          "contourcarpet": [
           {
            "colorbar": {
             "outlinewidth": 0,
             "ticks": ""
            },
            "type": "contourcarpet"
           }
          ],
          "heatmap": [
           {
            "colorbar": {
             "outlinewidth": 0,
             "ticks": ""
            },
            "colorscale": [
             [
              0,
              "#0d0887"
             ],
             [
              0.1111111111111111,
              "#46039f"
             ],
             [
              0.2222222222222222,
              "#7201a8"
             ],
             [
              0.3333333333333333,
              "#9c179e"
             ],
             [
              0.4444444444444444,
              "#bd3786"
             ],
             [
              0.5555555555555556,
              "#d8576b"
             ],
             [
              0.6666666666666666,
              "#ed7953"
             ],
             [
              0.7777777777777778,
              "#fb9f3a"
             ],
             [
              0.8888888888888888,
              "#fdca26"
             ],
             [
              1,
              "#f0f921"
             ]
            ],
            "type": "heatmap"
           }
          ],
          "histogram": [
           {
            "marker": {
             "pattern": {
              "fillmode": "overlay",
              "size": 10,
              "solidity": 0.2
             }
            },
            "type": "histogram"
           }
          ],
          "histogram2d": [
           {
            "colorbar": {
             "outlinewidth": 0,
             "ticks": ""
            },
            "colorscale": [
             [
              0,
              "#0d0887"
             ],
             [
              0.1111111111111111,
              "#46039f"
             ],
             [
              0.2222222222222222,
              "#7201a8"
             ],
             [
              0.3333333333333333,
              "#9c179e"
             ],
             [
              0.4444444444444444,
              "#bd3786"
             ],
             [
              0.5555555555555556,
              "#d8576b"
             ],
             [
              0.6666666666666666,
              "#ed7953"
             ],
             [
              0.7777777777777778,
              "#fb9f3a"
             ],
             [
              0.8888888888888888,
              "#fdca26"
             ],
             [
              1,
              "#f0f921"
             ]
            ],
            "type": "histogram2d"
           }
          ],
          "histogram2dcontour": [
           {
            "colorbar": {
             "outlinewidth": 0,
             "ticks": ""
            },
            "colorscale": [
             [
              0,
              "#0d0887"
             ],
             [
              0.1111111111111111,
              "#46039f"
             ],
             [
              0.2222222222222222,
              "#7201a8"
             ],
             [
              0.3333333333333333,
              "#9c179e"
             ],
             [
              0.4444444444444444,
              "#bd3786"
             ],
             [
              0.5555555555555556,
              "#d8576b"
             ],
             [
              0.6666666666666666,
              "#ed7953"
             ],
             [
              0.7777777777777778,
              "#fb9f3a"
             ],
             [
              0.8888888888888888,
              "#fdca26"
             ],
             [
              1,
              "#f0f921"
             ]
            ],
            "type": "histogram2dcontour"
           }
          ],
          "mesh3d": [
           {
            "colorbar": {
             "outlinewidth": 0,
             "ticks": ""
            },
            "type": "mesh3d"
           }
          ],
          "parcoords": [
           {
            "line": {
             "colorbar": {
              "outlinewidth": 0,
              "ticks": ""
             }
            },
            "type": "parcoords"
           }
          ],
          "pie": [
           {
            "automargin": true,
            "type": "pie"
           }
          ],
          "scatter": [
           {
            "fillpattern": {
             "fillmode": "overlay",
             "size": 10,
             "solidity": 0.2
            },
            "type": "scatter"
           }
          ],
          "scatter3d": [
           {
            "line": {
             "colorbar": {
              "outlinewidth": 0,
              "ticks": ""
             }
            },
            "marker": {
             "colorbar": {
              "outlinewidth": 0,
              "ticks": ""
             }
            },
            "type": "scatter3d"
           }
          ],
          "scattercarpet": [
           {
            "marker": {
             "colorbar": {
              "outlinewidth": 0,
              "ticks": ""
             }
            },
            "type": "scattercarpet"
           }
          ],
          "scattergeo": [
           {
            "marker": {
             "colorbar": {
              "outlinewidth": 0,
              "ticks": ""
             }
            },
            "type": "scattergeo"
           }
          ],
          "scattergl": [
           {
            "marker": {
             "colorbar": {
              "outlinewidth": 0,
              "ticks": ""
             }
            },
            "type": "scattergl"
           }
          ],
          "scattermap": [
           {
            "marker": {
             "colorbar": {
              "outlinewidth": 0,
              "ticks": ""
             }
            },
            "type": "scattermap"
           }
          ],
          "scattermapbox": [
           {
            "marker": {
             "colorbar": {
              "outlinewidth": 0,
              "ticks": ""
             }
            },
            "type": "scattermapbox"
           }
          ],
          "scatterpolar": [
           {
            "marker": {
             "colorbar": {
              "outlinewidth": 0,
              "ticks": ""
             }
            },
            "type": "scatterpolar"
           }
          ],
          "scatterpolargl": [
           {
            "marker": {
             "colorbar": {
              "outlinewidth": 0,
              "ticks": ""
             }
            },
            "type": "scatterpolargl"
           }
          ],
          "scatterternary": [
           {
            "marker": {
             "colorbar": {
              "outlinewidth": 0,
              "ticks": ""
             }
            },
            "type": "scatterternary"
           }
          ],
          "surface": [
           {
            "colorbar": {
             "outlinewidth": 0,
             "ticks": ""
            },
            "colorscale": [
             [
              0,
              "#0d0887"
             ],
             [
              0.1111111111111111,
              "#46039f"
             ],
             [
              0.2222222222222222,
              "#7201a8"
             ],
             [
              0.3333333333333333,
              "#9c179e"
             ],
             [
              0.4444444444444444,
              "#bd3786"
             ],
             [
              0.5555555555555556,
              "#d8576b"
             ],
             [
              0.6666666666666666,
              "#ed7953"
             ],
             [
              0.7777777777777778,
              "#fb9f3a"
             ],
             [
              0.8888888888888888,
              "#fdca26"
             ],
             [
              1,
              "#f0f921"
             ]
            ],
            "type": "surface"
           }
          ],
          "table": [
           {
            "cells": {
             "fill": {
              "color": "#EBF0F8"
             },
             "line": {
              "color": "white"
             }
            },
            "header": {
             "fill": {
              "color": "#C8D4E3"
             },
             "line": {
              "color": "white"
             }
            },
            "type": "table"
           }
          ]
         },
         "layout": {
          "annotationdefaults": {
           "arrowcolor": "#2a3f5f",
           "arrowhead": 0,
           "arrowwidth": 1
          },
          "autotypenumbers": "strict",
          "coloraxis": {
           "colorbar": {
            "outlinewidth": 0,
            "ticks": ""
           }
          },
          "colorscale": {
           "diverging": [
            [
             0,
             "#8e0152"
            ],
            [
             0.1,
             "#c51b7d"
            ],
            [
             0.2,
             "#de77ae"
            ],
            [
             0.3,
             "#f1b6da"
            ],
            [
             0.4,
             "#fde0ef"
            ],
            [
             0.5,
             "#f7f7f7"
            ],
            [
             0.6,
             "#e6f5d0"
            ],
            [
             0.7,
             "#b8e186"
            ],
            [
             0.8,
             "#7fbc41"
            ],
            [
             0.9,
             "#4d9221"
            ],
            [
             1,
             "#276419"
            ]
           ],
           "sequential": [
            [
             0,
             "#0d0887"
            ],
            [
             0.1111111111111111,
             "#46039f"
            ],
            [
             0.2222222222222222,
             "#7201a8"
            ],
            [
             0.3333333333333333,
             "#9c179e"
            ],
            [
             0.4444444444444444,
             "#bd3786"
            ],
            [
             0.5555555555555556,
             "#d8576b"
            ],
            [
             0.6666666666666666,
             "#ed7953"
            ],
            [
             0.7777777777777778,
             "#fb9f3a"
            ],
            [
             0.8888888888888888,
             "#fdca26"
            ],
            [
             1,
             "#f0f921"
            ]
           ],
           "sequentialminus": [
            [
             0,
             "#0d0887"
            ],
            [
             0.1111111111111111,
             "#46039f"
            ],
            [
             0.2222222222222222,
             "#7201a8"
            ],
            [
             0.3333333333333333,
             "#9c179e"
            ],
            [
             0.4444444444444444,
             "#bd3786"
            ],
            [
             0.5555555555555556,
             "#d8576b"
            ],
            [
             0.6666666666666666,
             "#ed7953"
            ],
            [
             0.7777777777777778,
             "#fb9f3a"
            ],
            [
             0.8888888888888888,
             "#fdca26"
            ],
            [
             1,
             "#f0f921"
            ]
           ]
          },
          "colorway": [
           "#636efa",
           "#EF553B",
           "#00cc96",
           "#ab63fa",
           "#FFA15A",
           "#19d3f3",
           "#FF6692",
           "#B6E880",
           "#FF97FF",
           "#FECB52"
          ],
          "font": {
           "color": "#2a3f5f"
          },
          "geo": {
           "bgcolor": "white",
           "lakecolor": "white",
           "landcolor": "white",
           "showlakes": true,
           "showland": true,
           "subunitcolor": "#C8D4E3"
          },
          "hoverlabel": {
           "align": "left"
          },
          "hovermode": "closest",
          "mapbox": {
           "style": "light"
          },
          "paper_bgcolor": "white",
          "plot_bgcolor": "white",
          "polar": {
           "angularaxis": {
            "gridcolor": "#EBF0F8",
            "linecolor": "#EBF0F8",
            "ticks": ""
           },
           "bgcolor": "white",
           "radialaxis": {
            "gridcolor": "#EBF0F8",
            "linecolor": "#EBF0F8",
            "ticks": ""
           }
          },
          "scene": {
           "xaxis": {
            "backgroundcolor": "white",
            "gridcolor": "#DFE8F3",
            "gridwidth": 2,
            "linecolor": "#EBF0F8",
            "showbackground": true,
            "ticks": "",
            "zerolinecolor": "#EBF0F8"
           },
           "yaxis": {
            "backgroundcolor": "white",
            "gridcolor": "#DFE8F3",
            "gridwidth": 2,
            "linecolor": "#EBF0F8",
            "showbackground": true,
            "ticks": "",
            "zerolinecolor": "#EBF0F8"
           },
           "zaxis": {
            "backgroundcolor": "white",
            "gridcolor": "#DFE8F3",
            "gridwidth": 2,
            "linecolor": "#EBF0F8",
            "showbackground": true,
            "ticks": "",
            "zerolinecolor": "#EBF0F8"
           }
          },
          "shapedefaults": {
           "line": {
            "color": "#2a3f5f"
           }
          },
          "ternary": {
           "aaxis": {
            "gridcolor": "#DFE8F3",
            "linecolor": "#A2B1C6",
            "ticks": ""
           },
           "baxis": {
            "gridcolor": "#DFE8F3",
            "linecolor": "#A2B1C6",
            "ticks": ""
           },
           "bgcolor": "white",
           "caxis": {
            "gridcolor": "#DFE8F3",
            "linecolor": "#A2B1C6",
            "ticks": ""
           }
          },
          "title": {
           "x": 0.05
          },
          "xaxis": {
           "automargin": true,
           "gridcolor": "#EBF0F8",
           "linecolor": "#EBF0F8",
           "ticks": "",
           "title": {
            "standoff": 15
           },
           "zerolinecolor": "#EBF0F8",
           "zerolinewidth": 2
          },
          "yaxis": {
           "automargin": true,
           "gridcolor": "#EBF0F8",
           "linecolor": "#EBF0F8",
           "ticks": "",
           "title": {
            "standoff": 15
           },
           "zerolinecolor": "#EBF0F8",
           "zerolinewidth": 2
          }
         }
        },
        "title": {
         "text": "🔍 DOGE Prediction Analysis Dashboard"
        },
        "xaxis": {
         "anchor": "y",
         "domain": [
          0,
          0.45
         ],
         "title": {
          "text": "Day"
         }
        },
        "xaxis2": {
         "anchor": "y2",
         "domain": [
          0.55,
          1
         ],
         "title": {
          "text": "Price ($)"
         }
        },
        "xaxis3": {
         "anchor": "y3",
         "domain": [
          0,
          0.45
         ]
        },
        "xaxis4": {
         "anchor": "y4",
         "domain": [
          0.55,
          1
         ],
         "title": {
          "text": "Day"
         }
        },
        "yaxis": {
         "anchor": "x",
         "domain": [
          0.625,
          1
         ],
         "title": {
          "text": "Price ($)"
         }
        },
        "yaxis2": {
         "anchor": "x2",
         "domain": [
          0.625,
          1
         ],
         "title": {
          "text": "Frequency"
         }
        },
        "yaxis3": {
         "anchor": "x3",
         "domain": [
          0,
          0.375
         ],
         "title": {
          "text": "Price ($)"
         }
        },
        "yaxis4": {
         "anchor": "x4",
         "domain": [
          0,
          0.375
         ],
         "title": {
          "text": "Change (%)"
         }
        }
       }
      }
     },
     "metadata": {},
     "output_type": "display_data"
    },
    {
     "name": "stdout",
     "output_type": "stream",
     "text": [
      "📊 Prediction analysis dashboard created!\n",
      "🔍 This dashboard shows detailed breakdowns of the prediction data\n"
     ]
    }
   ],
   "source": [
    "# Prediction Analysis Dashboard\n",
    "fig = make_subplots(\n",
    "    rows=2, cols=2,\n",
    "    subplot_titles=('Daily Predictions', 'Price Distribution', 'Prediction vs Current', 'Trend Analysis'),\n",
    "    specs=[[{\"secondary_y\": False}, {\"secondary_y\": False}],\n",
    "           [{\"secondary_y\": False}, {\"secondary_y\": False}]]\n",
    ")\n",
    "\n",
    "# 1. Daily predictions with percentage change\n",
    "predictions_with_change = predictions_df.copy()\n",
    "predictions_with_change['Change_Pct'] = ((predictions_with_change['Predicted_Price'] / current_price) - 1) * 100\n",
    "predictions_with_change['Day'] = range(1, len(predictions_with_change) + 1)\n",
    "\n",
    "fig.add_trace(\n",
    "    go.Scatter(x=predictions_with_change['Day'], \n",
    "               y=predictions_with_change['Predicted_Price'],\n",
    "               mode='lines+markers',\n",
    "               name='Daily Predictions',\n",
    "               line=dict(color='orange')),\n",
    "    row=1, col=1\n",
    ")\n",
    "\n",
    "# 2. Price distribution histogram\n",
    "fig.add_trace(\n",
    "    go.Histogram(x=predictions_df['Predicted_Price'],\n",
    "                 nbinsx=15,\n",
    "                 name='Price Distribution',\n",
    "                 marker_color='lightblue'),\n",
    "    row=1, col=2\n",
    ")\n",
    "\n",
    "# 3. Prediction vs Current Price comparison\n",
    "categories = ['Current Price', 'Min Prediction', 'Avg Prediction', 'Max Prediction']\n",
    "values = [current_price, \n",
    "          predictions_df['Predicted_Price'].min(),\n",
    "          predictions_df['Predicted_Price'].mean(),\n",
    "          predictions_df['Predicted_Price'].max()]\n",
    "colors = ['red', 'green', 'blue', 'purple']\n",
    "\n",
    "fig.add_trace(\n",
    "    go.Bar(x=categories, y=values, \n",
    "           marker_color=colors,\n",
    "           name='Price Comparison'),\n",
    "    row=2, col=1\n",
    ")\n",
    "\n",
    "# 4. Trend analysis (percentage change over days)\n",
    "fig.add_trace(\n",
    "    go.Scatter(x=predictions_with_change['Day'],\n",
    "               y=predictions_with_change['Change_Pct'],\n",
    "               mode='lines+markers',\n",
    "               name='Change %',\n",
    "               line=dict(color='green')),\n",
    "    row=2, col=2\n",
    ")\n",
    "\n",
    "# Add horizontal line at 0% for trend analysis\n",
    "fig.add_hline(y=0, line_dash=\"dash\", line_color=\"gray\", \n",
    "              annotation_text=\"No Change\", row=2, col=2)\n",
    "\n",
    "# Update layout\n",
    "fig.update_layout(\n",
    "    title_text=\"🔍 DOGE Prediction Analysis Dashboard\",\n",
    "    showlegend=False,\n",
    "    height=800,\n",
    "    template='plotly_white'\n",
    ")\n",
    "\n",
    "# Update axes labels\n",
    "fig.update_xaxes(title_text=\"Day\", row=1, col=1)\n",
    "fig.update_yaxes(title_text=\"Price ($)\", row=1, col=1)\n",
    "fig.update_xaxes(title_text=\"Price ($)\", row=1, col=2)\n",
    "fig.update_yaxes(title_text=\"Frequency\", row=1, col=2)\n",
    "fig.update_yaxes(title_text=\"Price ($)\", row=2, col=1)\n",
    "fig.update_xaxes(title_text=\"Day\", row=2, col=2)\n",
    "fig.update_yaxes(title_text=\"Change (%)\", row=2, col=2)\n",
    "\n",
    "fig.show()\n",
    "\n",
    "print(\"📊 Prediction analysis dashboard created!\")\n",
    "print(\"🔍 This dashboard shows detailed breakdowns of the prediction data\")"
   ]
  },
  {
   "cell_type": "markdown",
   "id": "b8225763",
   "metadata": {},
   "source": [
    "## 📊 Technical Analysis & Statistics\n",
    "\n",
    "Let's perform technical analysis on the DOGE data and create additional visualizations."
   ]
  },
  {
   "cell_type": "code",
   "execution_count": 7,
   "id": "d76cd4d6",
   "metadata": {},
   "outputs": [
    {
     "name": "stdout",
     "output_type": "stream",
     "text": [
      "📈 Calculating technical indicators...\n"
     ]
    },
    {
     "data": {
      "application/vnd.plotly.v1+json": {
       "config": {
        "plotlyServerURL": "https://plot.ly"
       },
       "data": [
        {
         "line": {
          "color": "blue",
          "width": 2
         },
         "mode": "lines",
         "name": "DOGE Price",
         "type": "scatter",
         "x": [
          "2025-03-30T00:00:00",
          "2025-03-31T00:00:00",
          "2025-04-01T00:00:00",
          "2025-04-02T00:00:00",
          "2025-04-03T00:00:00",
          "2025-04-04T00:00:00",
          "2025-04-05T00:00:00",
          "2025-04-06T00:00:00",
          "2025-04-07T00:00:00",
          "2025-04-08T00:00:00",
          "2025-04-09T00:00:00",
          "2025-04-10T00:00:00",
          "2025-04-11T00:00:00",
          "2025-04-12T00:00:00",
          "2025-04-13T00:00:00",
          "2025-04-14T00:00:00",
          "2025-04-15T00:00:00",
          "2025-04-16T00:00:00",
          "2025-04-17T00:00:00",
          "2025-04-18T00:00:00",
          "2025-04-19T00:00:00",
          "2025-04-20T00:00:00",
          "2025-04-21T00:00:00",
          "2025-04-22T00:00:00",
          "2025-04-23T00:00:00",
          "2025-04-24T00:00:00",
          "2025-04-25T00:00:00",
          "2025-04-26T00:00:00",
          "2025-04-27T00:00:00",
          "2025-04-28T00:00:00",
          "2025-04-29T00:00:00",
          "2025-04-30T00:00:00",
          "2025-05-01T00:00:00",
          "2025-05-02T00:00:00",
          "2025-05-03T00:00:00",
          "2025-05-04T00:00:00",
          "2025-05-05T00:00:00",
          "2025-05-06T00:00:00",
          "2025-05-07T00:00:00",
          "2025-05-08T00:00:00",
          "2025-05-09T00:00:00",
          "2025-05-10T00:00:00",
          "2025-05-11T00:00:00",
          "2025-05-12T00:00:00",
          "2025-05-13T00:00:00",
          "2025-05-14T00:00:00",
          "2025-05-15T00:00:00",
          "2025-05-16T00:00:00",
          "2025-05-17T00:00:00",
          "2025-05-18T00:00:00",
          "2025-05-19T00:00:00",
          "2025-05-20T00:00:00",
          "2025-05-21T00:00:00",
          "2025-05-22T00:00:00",
          "2025-05-23T00:00:00",
          "2025-05-24T00:00:00",
          "2025-05-25T00:00:00",
          "2025-05-26T00:00:00",
          "2025-05-27T00:00:00",
          "2025-05-28T00:00:00",
          "2025-05-29T00:00:00",
          "2025-05-30T00:00:00",
          "2025-05-31T00:00:00",
          "2025-06-01T00:00:00",
          "2025-06-02T00:00:00",
          "2025-06-03T00:00:00",
          "2025-06-04T00:00:00",
          "2025-06-05T00:00:00",
          "2025-06-06T00:00:00",
          "2025-06-07T00:00:00",
          "2025-06-08T00:00:00",
          "2025-06-09T00:00:00",
          "2025-06-10T00:00:00",
          "2025-06-11T00:00:00",
          "2025-06-12T00:00:00",
          "2025-06-13T00:00:00",
          "2025-06-14T00:00:00",
          "2025-06-15T00:00:00",
          "2025-06-16T00:00:00",
          "2025-06-17T00:00:00",
          "2025-06-18T00:00:00",
          "2025-06-19T00:00:00",
          "2025-06-20T00:00:00",
          "2025-06-21T00:00:00",
          "2025-06-22T00:00:00",
          "2025-06-23T00:00:00",
          "2025-06-24T00:00:00",
          "2025-06-25T00:00:00",
          "2025-06-26T00:00:00",
          "2025-06-27T00:00:00",
          "2025-06-28T00:00:00",
          "2025-06-29T00:00:00",
          "2025-06-30T00:00:00",
          "2025-07-01T00:00:00",
          "2025-07-02T00:00:00",
          "2025-07-03T00:00:00",
          "2025-07-04T00:00:00",
          "2025-07-05T00:00:00",
          "2025-07-06T00:00:00",
          "2025-07-07T00:00:00",
          "2025-07-08T00:00:00",
          "2025-07-09T00:00:00",
          "2025-07-10T00:00:00",
          "2025-07-11T00:00:00",
          "2025-07-12T00:00:00",
          "2025-07-13T00:00:00",
          "2025-07-14T00:00:00",
          "2025-07-15T00:00:00",
          "2025-07-16T00:00:00",
          "2025-07-17T00:00:00",
          "2025-07-18T00:00:00",
          "2025-07-19T00:00:00",
          "2025-07-20T00:00:00",
          "2025-07-21T00:00:00",
          "2025-07-22T00:00:00",
          "2025-07-23T00:00:00",
          "2025-07-24T00:00:00",
          "2025-07-25T00:00:00",
          "2025-07-26T00:00:00",
          "2025-07-27T00:00:00",
          "2025-07-28T00:00:00",
          "2025-07-29T00:00:00",
          "2025-07-30T00:00:00",
          "2025-07-31T00:00:00",
          "2025-08-01T00:00:00",
          "2025-08-02T00:00:00",
          "2025-08-03T00:00:00",
          "2025-08-04T00:00:00",
          "2025-08-05T00:00:00",
          "2025-08-06T00:00:00",
          "2025-08-07T00:00:00",
          "2025-08-08T00:00:00",
          "2025-08-09T00:00:00",
          "2025-08-10T00:00:00",
          "2025-08-11T00:00:00",
          "2025-08-12T00:00:00",
          "2025-08-13T00:00:00",
          "2025-08-14T00:00:00",
          "2025-08-15T00:00:00",
          "2025-08-16T00:00:00",
          "2025-08-17T00:00:00",
          "2025-08-18T00:00:00",
          "2025-08-19T00:00:00",
          "2025-08-20T00:00:00",
          "2025-08-21T00:00:00",
          "2025-08-22T00:00:00",
          "2025-08-23T00:00:00",
          "2025-08-24T00:00:00",
          "2025-08-25T00:00:00",
          "2025-08-26T00:00:00",
          "2025-08-27T00:00:00",
          "2025-08-28T00:00:00",
          "2025-08-29T00:00:00",
          "2025-08-30T00:00:00",
          "2025-08-31T00:00:00",
          "2025-09-01T00:00:00",
          "2025-09-02T00:00:00",
          "2025-09-03T00:00:00",
          "2025-09-04T00:00:00",
          "2025-09-05T00:00:00",
          "2025-09-06T00:00:00",
          "2025-09-07T00:00:00",
          "2025-09-08T00:00:00",
          "2025-09-09T00:00:00",
          "2025-09-10T00:00:00",
          "2025-09-11T00:00:00",
          "2025-09-12T00:00:00",
          "2025-09-13T00:00:00",
          "2025-09-14T00:00:00",
          "2025-09-15T00:00:00",
          "2025-09-16T00:00:00",
          "2025-09-17T00:00:00",
          "2025-09-18T00:00:00",
          "2025-09-19T00:00:00",
          "2025-09-20T00:00:00",
          "2025-09-21T00:00:00",
          "2025-09-22T00:00:00",
          "2025-09-23T00:00:00",
          "2025-09-24T00:00:00",
          "2025-09-25T00:00:00"
         ],
         "xaxis": "x",
         "y": {
          "bdata": "/v//3/BJxT/+//+/6lbFP////z9zSMY/AAAAgFcExT8AAADAYb7EPwAAAACK5sU//f//P62ixT/+//9fWg3DP/7///+AI8M/////348wwj////9/CYfEP/3//99Tq8M//v//38t9xD8AAAAAR3TFP/7//z9e1sQ/////v8JJxD/+//+/hqfDPwAAAADRzMM//f//v0nvwz8AAADgwizEP/7//998I8Q/////vxHdwz8AAACA02bEPwAAAADw3cY/////X4fcxj////8/wFrHPwAAAKA0Rsc/////3ytIxz8AAAAAfv/GP/3//x/m58Y//v///3haxj8AAADAPA/GPwAAAGAcI8c//f//P+o9xz8AAACgNH/GP////9+l1MU//v//H1rWxT8AAACg5QfGPwAAAEBTBMY//////zNKyT////9f8UbKP/3//38K1c8/////3w2izT////8/eZHNP////x8i4M4//f///6bMzT/+//+fYg7MP////98hU8w//f//Xzl7yz8AAACgpPnNP/3//7/Tucw/////X7LxzD/9//+/nPXNP////98TXc8/////f7TGzD8AAABAiNbMP////59GzMw/////H2PuzD////8f8fLMP////5+VQsw/////36V/yz/+//+/gsLIPwAAAMBtpsg//////+7IyD8AAAAgigLJPwAAAAC/uMg//////x0YyD/9////5/fFPwAAAGCW6MY/////v5Wzxz////8f+5LHPwAAAICQ88g//v///01hyT////+flbTIP/7////2PMc//f//H7EWxz8AAADAAdjGP/7//19SfMY/AAAA4Pcaxj////9frrfFPwAAAABF18U//v//nx3ixT////8f+8vEPwAAAEDPu8M//v///4Rewz////+/2AnFP////1+sNsU//v//X+QQxT8AAADga3rEP/7//1/gncQ//f///9vzxD/+//+/hLXFP/3//x8tI8U//f//Py8xxD//////nZjFP/7//781BcY///////TYxD8AAABg3QbFP/3//x+jA8Y/////3+h/xT8AAADA9+LFP/7//9/6Isc/AAAAIPruyD/+//8/h8DJP/7//z8LQsk/////n49ryT////8/a0XJP/////8jfsk/AAAAIEs7yz8AAABgV+jLPwAAAKB5Oc4//v//Hz7pzj////8/q3fRPwAAACDYY9E/AAAAwONN0T8AAAAgls3OP/////9Ssc0//////9pPzj////+fUiXOP/////+h0s4/AAAAoDTUzD/+//+/P6XMPwAAAOCuJcw/AAAAYB7dyj/9//8fcsHJP/3//z+zecg//v//H2B0yT/+//8f0O7KPwAAACAMkck//f//v8tFyj////9/RnfMP/3///+md80//f//P/jCzj/+//+/9PbNP/7//7+EfMw//f//v00qzj/9//9/x2LPP/3//5+GqMw/AAAA4DBDzT8AAAAAeJnNP/7//985Bs4//f//H2x4zD////+/FcLKP////z95WMw/////H+V8yz/+//8/p8vOP/7///+KNc4/AAAAgI6rzT////8/g9vKP/3//z+p9ss/////n4kFzD////9fLLfMPwAAAMB/Zcs//f//fzulyz/+//8/Sl7LPwAAAGCa6co//////yd/yz8AAABgTzvMP/3//z9yMss/AAAAQEfkyz/9////JqLLPwAAAMCePc0//v//3/T1zj/9////7c7OPwAAAIAaac8/////X7Nc0D////+/nKDRP/////+ThtI/////H2vU0T8AAADgOzHRPwAAAKDtQ9E/////3+MT0j8AAADgg9fRP////78Z/NA/////v8wi0T8AAABA1LbQP////19x484/AAAA4Lpizj/+//9fFeHOP/7//1+hgcw/",
          "dtype": "f8"
         },
         "yaxis": "y"
        },
        {
         "line": {
          "color": "orange",
          "width": 1
         },
         "mode": "lines",
         "name": "7-day MA",
         "type": "scatter",
         "x": [
          "2025-03-30T00:00:00",
          "2025-03-31T00:00:00",
          "2025-04-01T00:00:00",
          "2025-04-02T00:00:00",
          "2025-04-03T00:00:00",
          "2025-04-04T00:00:00",
          "2025-04-05T00:00:00",
          "2025-04-06T00:00:00",
          "2025-04-07T00:00:00",
          "2025-04-08T00:00:00",
          "2025-04-09T00:00:00",
          "2025-04-10T00:00:00",
          "2025-04-11T00:00:00",
          "2025-04-12T00:00:00",
          "2025-04-13T00:00:00",
          "2025-04-14T00:00:00",
          "2025-04-15T00:00:00",
          "2025-04-16T00:00:00",
          "2025-04-17T00:00:00",
          "2025-04-18T00:00:00",
          "2025-04-19T00:00:00",
          "2025-04-20T00:00:00",
          "2025-04-21T00:00:00",
          "2025-04-22T00:00:00",
          "2025-04-23T00:00:00",
          "2025-04-24T00:00:00",
          "2025-04-25T00:00:00",
          "2025-04-26T00:00:00",
          "2025-04-27T00:00:00",
          "2025-04-28T00:00:00",
          "2025-04-29T00:00:00",
          "2025-04-30T00:00:00",
          "2025-05-01T00:00:00",
          "2025-05-02T00:00:00",
          "2025-05-03T00:00:00",
          "2025-05-04T00:00:00",
          "2025-05-05T00:00:00",
          "2025-05-06T00:00:00",
          "2025-05-07T00:00:00",
          "2025-05-08T00:00:00",
          "2025-05-09T00:00:00",
          "2025-05-10T00:00:00",
          "2025-05-11T00:00:00",
          "2025-05-12T00:00:00",
          "2025-05-13T00:00:00",
          "2025-05-14T00:00:00",
          "2025-05-15T00:00:00",
          "2025-05-16T00:00:00",
          "2025-05-17T00:00:00",
          "2025-05-18T00:00:00",
          "2025-05-19T00:00:00",
          "2025-05-20T00:00:00",
          "2025-05-21T00:00:00",
          "2025-05-22T00:00:00",
          "2025-05-23T00:00:00",
          "2025-05-24T00:00:00",
          "2025-05-25T00:00:00",
          "2025-05-26T00:00:00",
          "2025-05-27T00:00:00",
          "2025-05-28T00:00:00",
          "2025-05-29T00:00:00",
          "2025-05-30T00:00:00",
          "2025-05-31T00:00:00",
          "2025-06-01T00:00:00",
          "2025-06-02T00:00:00",
          "2025-06-03T00:00:00",
          "2025-06-04T00:00:00",
          "2025-06-05T00:00:00",
          "2025-06-06T00:00:00",
          "2025-06-07T00:00:00",
          "2025-06-08T00:00:00",
          "2025-06-09T00:00:00",
          "2025-06-10T00:00:00",
          "2025-06-11T00:00:00",
          "2025-06-12T00:00:00",
          "2025-06-13T00:00:00",
          "2025-06-14T00:00:00",
          "2025-06-15T00:00:00",
          "2025-06-16T00:00:00",
          "2025-06-17T00:00:00",
          "2025-06-18T00:00:00",
          "2025-06-19T00:00:00",
          "2025-06-20T00:00:00",
          "2025-06-21T00:00:00",
          "2025-06-22T00:00:00",
          "2025-06-23T00:00:00",
          "2025-06-24T00:00:00",
          "2025-06-25T00:00:00",
          "2025-06-26T00:00:00",
          "2025-06-27T00:00:00",
          "2025-06-28T00:00:00",
          "2025-06-29T00:00:00",
          "2025-06-30T00:00:00",
          "2025-07-01T00:00:00",
          "2025-07-02T00:00:00",
          "2025-07-03T00:00:00",
          "2025-07-04T00:00:00",
          "2025-07-05T00:00:00",
          "2025-07-06T00:00:00",
          "2025-07-07T00:00:00",
          "2025-07-08T00:00:00",
          "2025-07-09T00:00:00",
          "2025-07-10T00:00:00",
          "2025-07-11T00:00:00",
          "2025-07-12T00:00:00",
          "2025-07-13T00:00:00",
          "2025-07-14T00:00:00",
          "2025-07-15T00:00:00",
          "2025-07-16T00:00:00",
          "2025-07-17T00:00:00",
          "2025-07-18T00:00:00",
          "2025-07-19T00:00:00",
          "2025-07-20T00:00:00",
          "2025-07-21T00:00:00",
          "2025-07-22T00:00:00",
          "2025-07-23T00:00:00",
          "2025-07-24T00:00:00",
          "2025-07-25T00:00:00",
          "2025-07-26T00:00:00",
          "2025-07-27T00:00:00",
          "2025-07-28T00:00:00",
          "2025-07-29T00:00:00",
          "2025-07-30T00:00:00",
          "2025-07-31T00:00:00",
          "2025-08-01T00:00:00",
          "2025-08-02T00:00:00",
          "2025-08-03T00:00:00",
          "2025-08-04T00:00:00",
          "2025-08-05T00:00:00",
          "2025-08-06T00:00:00",
          "2025-08-07T00:00:00",
          "2025-08-08T00:00:00",
          "2025-08-09T00:00:00",
          "2025-08-10T00:00:00",
          "2025-08-11T00:00:00",
          "2025-08-12T00:00:00",
          "2025-08-13T00:00:00",
          "2025-08-14T00:00:00",
          "2025-08-15T00:00:00",
          "2025-08-16T00:00:00",
          "2025-08-17T00:00:00",
          "2025-08-18T00:00:00",
          "2025-08-19T00:00:00",
          "2025-08-20T00:00:00",
          "2025-08-21T00:00:00",
          "2025-08-22T00:00:00",
          "2025-08-23T00:00:00",
          "2025-08-24T00:00:00",
          "2025-08-25T00:00:00",
          "2025-08-26T00:00:00",
          "2025-08-27T00:00:00",
          "2025-08-28T00:00:00",
          "2025-08-29T00:00:00",
          "2025-08-30T00:00:00",
          "2025-08-31T00:00:00",
          "2025-09-01T00:00:00",
          "2025-09-02T00:00:00",
          "2025-09-03T00:00:00",
          "2025-09-04T00:00:00",
          "2025-09-05T00:00:00",
          "2025-09-06T00:00:00",
          "2025-09-07T00:00:00",
          "2025-09-08T00:00:00",
          "2025-09-09T00:00:00",
          "2025-09-10T00:00:00",
          "2025-09-11T00:00:00",
          "2025-09-12T00:00:00",
          "2025-09-13T00:00:00",
          "2025-09-14T00:00:00",
          "2025-09-15T00:00:00",
          "2025-09-16T00:00:00",
          "2025-09-17T00:00:00",
          "2025-09-18T00:00:00",
          "2025-09-19T00:00:00",
          "2025-09-20T00:00:00",
          "2025-09-21T00:00:00",
          "2025-09-22T00:00:00",
          "2025-09-23T00:00:00",
          "2025-09-24T00:00:00",
          "2025-09-25T00:00:00"
         ],
         "xaxis": "x",
         "y": {
          "bdata": "kCRJ8jtRxz+2bdt2hQXHP23btg3EtsY/I0mSRIInxj9IkiSJZqLFP23btu3Wd8U/kSRJMlJ1xT+3bdvWhSPFPyNJkgQJ08Q/////P1Y9xD9t27atbyvEP23bto0kBMQ/a9u2rZvQwz9HkiTJ+snDP9q2bXtEC8Q//v//3001xD/atm3b3mrEP////39EUMQ/SJIk6flZxD+2bdtWZk7EP7Zt23ZJHsQ/////P6z6wz+2bds20/7DP7Zt2/ZPdMQ/kSRJckXkxD////9fVmHFPyNJksSv0sU/kSRJMqRFxj+SJEnyRbjGPyVJkuTaE8c/SZIkCRMBxz/btm07v+PGPyVJkmTM28Y/kSRJMp3axj+2bduW573GP23btm02k8Y/bdu2bSJsxj8lSZKEVmDGP5IkSXLHXsY/btu2rYGtxj+SJEmyghzHPyNJkmTqccg/I0mSZEKPyT+RJEmy/anKP23btg107cs/a9u2TRIKzT9HkiSJPW/NPyJJkuQfus0/I0mSBAIbzT8jSZJEhSfNPyJJksS2CM0/IkmShBTCzD/atm177sfMP9q2bTvjQM0/IkmS5GVRzT+QJElyA4PNPyJJkgT2V80/tm3bNnhfzT////+/pV/NP0iSJCmAIc0/bdu2TSeUzD8lSZLERAHMP0mSJGkcaMs/SZIkCVnVyj8lSZLk8EXKP5IkSXJXq8k/tm3bNv0SyT8jSZKEvUjIP7Zt23YJBcg/kSRJUljixz9JkiTpELbHPwAAAEDts8c/btu2rQHMxz9IkiTpW+LHPyNJksTLEMg/////32EXyD+2bduWA/jHP/7//5800Mc/kCRJ0h5oxz+1bduWLOLGP7Zt2zZqecY/kSRJct1Hxj+2bduWDPTFPyNJkoROgsU/AAAAwFUQxT9t27ZNUenEP23btk3j1sQ/2rZtW4y6xD+RJEnSKYfEP7Zt27aTgMQ/kSRJ0ietxD+QJEkSugLFP0eSJGlYBsU/IkmSZP3gxD9r27YNYfTEP0eSJAnHLMU/kCRJsjc1xT////+/7jfFP0eSJKkXQ8U/bdu2DVdQxT////8fT47FP0iSJImlxsU/bdu2TS8xxj+2bdtWjeTGP////79Kf8c/////P9r7xz9t27ZNyIXIP2vbtg2qCck/AAAAYGyfyT9u27aNMAzKPyVJkuTAr8o/I0mSBH9+yz/atm3bdtrMP5EkSZI3Ns4/kiRJEpiDzz9JkiSJGgPQP9u2bcu+I9A/SZIkCVgl0D8AAACAWRfQP5IkSRJQmM8/AAAAIKy+zj/atm27mOTNP5EkSbJ3g80/tm3bdgIczT+RJEkyYXXMP0eSJEkBpss/2bZtu67hyj/Ztm07V5zKP5EkSZK9K8o/SJIkaS/nyT9r27ZtxyHKP7Vt29aFqco//v//H2uPyz9HkiTJWzTMP5AkSXIsbcw/IkmSZFoVzT9HkiTJWdDNP48kSfJi180/2bZtW+TPzT+QJElSZKXNPyJJksSSp80/tW3b9vymzT9r27atYirNP2vbtu0yu8w//////2SQzD9IkiTpdcjMPyNJksTB3sw/2rZt283RzD9JkiQp0ZbMP9q2bTvmwsw/I0mSJA23zD////+/8uPMP7Zt2/ajZ8w//v//v+EJzD9r27Zts7XLP9m2bbu2t8s/I0mSRKSmyz9t27bNUq7LP////3/Kdss//////+aIyz/atm1bdojLPyNJkiTwzMs/kSRJEv1gzD/atm1bGdrMP5EkSfJaTs0//v//330Yzj9r27YNxSXPPyRJknQZP9A/SZIk2Xi00D/btm17FPPQP23btm0lN9E/SJIkqeiN0T+RJElyBsTRPyRJkgSGrNE/kiRJsrJ50T9JkiRJ5lDRP23bth34ENE/SZIkqSzF0D8lSZI0smTQP5EkSRLows8/",
          "dtype": "f8"
         },
         "yaxis": "y"
        },
        {
         "line": {
          "color": "red",
          "width": 1
         },
         "mode": "lines",
         "name": "30-day MA",
         "type": "scatter",
         "x": [
          "2025-03-30T00:00:00",
          "2025-03-31T00:00:00",
          "2025-04-01T00:00:00",
          "2025-04-02T00:00:00",
          "2025-04-03T00:00:00",
          "2025-04-04T00:00:00",
          "2025-04-05T00:00:00",
          "2025-04-06T00:00:00",
          "2025-04-07T00:00:00",
          "2025-04-08T00:00:00",
          "2025-04-09T00:00:00",
          "2025-04-10T00:00:00",
          "2025-04-11T00:00:00",
          "2025-04-12T00:00:00",
          "2025-04-13T00:00:00",
          "2025-04-14T00:00:00",
          "2025-04-15T00:00:00",
          "2025-04-16T00:00:00",
          "2025-04-17T00:00:00",
          "2025-04-18T00:00:00",
          "2025-04-19T00:00:00",
          "2025-04-20T00:00:00",
          "2025-04-21T00:00:00",
          "2025-04-22T00:00:00",
          "2025-04-23T00:00:00",
          "2025-04-24T00:00:00",
          "2025-04-25T00:00:00",
          "2025-04-26T00:00:00",
          "2025-04-27T00:00:00",
          "2025-04-28T00:00:00",
          "2025-04-29T00:00:00",
          "2025-04-30T00:00:00",
          "2025-05-01T00:00:00",
          "2025-05-02T00:00:00",
          "2025-05-03T00:00:00",
          "2025-05-04T00:00:00",
          "2025-05-05T00:00:00",
          "2025-05-06T00:00:00",
          "2025-05-07T00:00:00",
          "2025-05-08T00:00:00",
          "2025-05-09T00:00:00",
          "2025-05-10T00:00:00",
          "2025-05-11T00:00:00",
          "2025-05-12T00:00:00",
          "2025-05-13T00:00:00",
          "2025-05-14T00:00:00",
          "2025-05-15T00:00:00",
          "2025-05-16T00:00:00",
          "2025-05-17T00:00:00",
          "2025-05-18T00:00:00",
          "2025-05-19T00:00:00",
          "2025-05-20T00:00:00",
          "2025-05-21T00:00:00",
          "2025-05-22T00:00:00",
          "2025-05-23T00:00:00",
          "2025-05-24T00:00:00",
          "2025-05-25T00:00:00",
          "2025-05-26T00:00:00",
          "2025-05-27T00:00:00",
          "2025-05-28T00:00:00",
          "2025-05-29T00:00:00",
          "2025-05-30T00:00:00",
          "2025-05-31T00:00:00",
          "2025-06-01T00:00:00",
          "2025-06-02T00:00:00",
          "2025-06-03T00:00:00",
          "2025-06-04T00:00:00",
          "2025-06-05T00:00:00",
          "2025-06-06T00:00:00",
          "2025-06-07T00:00:00",
          "2025-06-08T00:00:00",
          "2025-06-09T00:00:00",
          "2025-06-10T00:00:00",
          "2025-06-11T00:00:00",
          "2025-06-12T00:00:00",
          "2025-06-13T00:00:00",
          "2025-06-14T00:00:00",
          "2025-06-15T00:00:00",
          "2025-06-16T00:00:00",
          "2025-06-17T00:00:00",
          "2025-06-18T00:00:00",
          "2025-06-19T00:00:00",
          "2025-06-20T00:00:00",
          "2025-06-21T00:00:00",
          "2025-06-22T00:00:00",
          "2025-06-23T00:00:00",
          "2025-06-24T00:00:00",
          "2025-06-25T00:00:00",
          "2025-06-26T00:00:00",
          "2025-06-27T00:00:00",
          "2025-06-28T00:00:00",
          "2025-06-29T00:00:00",
          "2025-06-30T00:00:00",
          "2025-07-01T00:00:00",
          "2025-07-02T00:00:00",
          "2025-07-03T00:00:00",
          "2025-07-04T00:00:00",
          "2025-07-05T00:00:00",
          "2025-07-06T00:00:00",
          "2025-07-07T00:00:00",
          "2025-07-08T00:00:00",
          "2025-07-09T00:00:00",
          "2025-07-10T00:00:00",
          "2025-07-11T00:00:00",
          "2025-07-12T00:00:00",
          "2025-07-13T00:00:00",
          "2025-07-14T00:00:00",
          "2025-07-15T00:00:00",
          "2025-07-16T00:00:00",
          "2025-07-17T00:00:00",
          "2025-07-18T00:00:00",
          "2025-07-19T00:00:00",
          "2025-07-20T00:00:00",
          "2025-07-21T00:00:00",
          "2025-07-22T00:00:00",
          "2025-07-23T00:00:00",
          "2025-07-24T00:00:00",
          "2025-07-25T00:00:00",
          "2025-07-26T00:00:00",
          "2025-07-27T00:00:00",
          "2025-07-28T00:00:00",
          "2025-07-29T00:00:00",
          "2025-07-30T00:00:00",
          "2025-07-31T00:00:00",
          "2025-08-01T00:00:00",
          "2025-08-02T00:00:00",
          "2025-08-03T00:00:00",
          "2025-08-04T00:00:00",
          "2025-08-05T00:00:00",
          "2025-08-06T00:00:00",
          "2025-08-07T00:00:00",
          "2025-08-08T00:00:00",
          "2025-08-09T00:00:00",
          "2025-08-10T00:00:00",
          "2025-08-11T00:00:00",
          "2025-08-12T00:00:00",
          "2025-08-13T00:00:00",
          "2025-08-14T00:00:00",
          "2025-08-15T00:00:00",
          "2025-08-16T00:00:00",
          "2025-08-17T00:00:00",
          "2025-08-18T00:00:00",
          "2025-08-19T00:00:00",
          "2025-08-20T00:00:00",
          "2025-08-21T00:00:00",
          "2025-08-22T00:00:00",
          "2025-08-23T00:00:00",
          "2025-08-24T00:00:00",
          "2025-08-25T00:00:00",
          "2025-08-26T00:00:00",
          "2025-08-27T00:00:00",
          "2025-08-28T00:00:00",
          "2025-08-29T00:00:00",
          "2025-08-30T00:00:00",
          "2025-08-31T00:00:00",
          "2025-09-01T00:00:00",
          "2025-09-02T00:00:00",
          "2025-09-03T00:00:00",
          "2025-09-04T00:00:00",
          "2025-09-05T00:00:00",
          "2025-09-06T00:00:00",
          "2025-09-07T00:00:00",
          "2025-09-08T00:00:00",
          "2025-09-09T00:00:00",
          "2025-09-10T00:00:00",
          "2025-09-11T00:00:00",
          "2025-09-12T00:00:00",
          "2025-09-13T00:00:00",
          "2025-09-14T00:00:00",
          "2025-09-15T00:00:00",
          "2025-09-16T00:00:00",
          "2025-09-17T00:00:00",
          "2025-09-18T00:00:00",
          "2025-09-19T00:00:00",
          "2025-09-20T00:00:00",
          "2025-09-21T00:00:00",
          "2025-09-22T00:00:00",
          "2025-09-23T00:00:00",
          "2025-09-24T00:00:00",
          "2025-09-25T00:00:00"
         ],
         "xaxis": "x",
         "y": {
          "bdata": "l5mZOd5Bxz/+//8vXxbHPyAiIkItz8Y/MTMz0xOpxj8xMzPTkYDGP9zd3W3YW8Y/hoiI2CA4xj+ZmZmpdwLGPzIzM5Ph08U/MjMzc9C3xT8hIiIitb7FP+7u7h49s8U/dnd3B9ClxT8QERHxl6jFP2VmZmbBnsU/////T5GLxT9lZmYWh3vFP4eIiKgEZ8U/dnd3Z5hZxT8yMzNzQkPFP5mZmfkhNsU/VFVVpSgpxT9DREREeCDFP////290J8U/u7u7i8YixT+qqqrqihnFP93d3c1gC8U/u7u7q/oBxT9DRETUaQHFP+3u7p6qC8U/l5mZOcAUxT92d3cX5RrFP+7u7v4uIsU/qqqqWis1xT8QERFRIUTFP1RVVaWIQ8U/u7u7m0FFxT9lZmamrF7FPxARETE8d8U/qqqqutKzxT/d3d394uTFP4eIiFitTMY/u7u7i6+axj9DRET07N/GP93d3Z2VNcc/u7u7W7+Gxz+qqqpacc7HP4eIiMgvF8g/MjMzo5VXyD8yMzPDNqvIP8zMzOx99Mg/7u7uvvpByT/LzMz8iZPJP+3u7i4L3Mk/dXd3J4QOyj9kZmYWTz3KPyAiItJxbMo/y8zM3Kacyj91d3f3bs/KP7u7u3sf/co/EBERYQcpyz/u7u4+EkDLP7u7u1v7TMs/7u7uLiZayz92d3f3l2/LP4eIiHhDiMs/u7u7u4Wbyz92d3dH/ZrLP93d3R2Zoss/7u7uTguVyz8QERGR+n3LP8zMzExDQ8s/MjMzo/geyz9UVVWVefXKP6qqqnpNtMo/zMzMjAl7yj+qqqrajk7KPzIzMyO7HMo/ZWZmFtvuyT8hIiLyY6jJP0NERHSjbck/MjMzw2IxyT9VVVW1MuPIPwAAALD0f8g/ZWZm1q4vyD9DRER0IO3HP8zMzBxorMc/mZmZSUppxz9DRESUASHHP2VmZlbI38Y/ZWZmRuynxj/u7u7O443GP////y/qb8Y/EBERIblIxj+HiIiolyvGP8zMzIyKFMY/u7u7+9X4xT+HiIgYzfDFPzIzM2Mr6cU/u7u7W2HWxT+HiIjY+sfFP0NERGR+uMU/u7u7y660xT////8/nb3FP4aIiKjZzsU/DxER8b7ixT+GiIiodffFP3V3d8ceEcY/l5mZSd08xj+GiIi4r3HGPyAiIgI6ucY//v//n0MGxz/c3d3N6H7HP7q7uytO/8c/u7u761iByD+HiIgIrNTIP7u7u+sGHck/ISIiAu1ryT+qqqoqbL7JP////6+DFco/dnd317lYyj/d3d296pPKP93d3d27z8o/zMzMPKoIyz9lZmbGKCzLP0NEROQbQcs/MjMzQ2xoyz+HiIg40prLP1RVVYUiucs/h4iISN3hyz+qqqoKAhrMP3Z3d8cHUMw/MTMzc8OBzD+GiIgItqXMP93d3Z1Cwcw/u7u7a8DpzD+ZmZkp7h3NPzIzM3PxOM0/h4iI6EVKzT/d3d3ttVjNP6qqqpoAV80/3d3dzSxCzT8QERFhZvzMP1RVVSV+xcw/3d3d3bqIzD/u7u5eqojMPzIzM6MSjcw/7u7unpiHzD/MzMwsiWvMP0NERAQjU8w/MTMzcz9MzD91d3dn2EzMP+3u7m5wRsw/ICIiEhxNzD8gIiIC31rMP6mqqvqqb8w/qaqqChiBzD+XmZlZLYzMP3V3dycXmsw/ICIiEuinzD+6u7trzaDMP2RmZjbensw/zMzMTJGgzD9lZmZGxKfMPzIzMzO4wMw/3d3dXY7WzD+qqqoqkvfMP1RVVSUxP80/mZmZucd1zT/MzMwMnZ7NP8zMzFwRxc0/u7u7e6UGzj/u7u6uz1LOP7u7u1vNgs4/y8zMPLG8zj/t7u6+KNPOPw8REbH02M4/U1VVxQ/fzj8PERFxYQHPP/7//08DBs8/",
          "dtype": "f8"
         },
         "yaxis": "y"
        },
        {
         "fill": "tozeroy",
         "line": {
          "color": "purple"
         },
         "mode": "lines",
         "name": "Volatility",
         "type": "scatter",
         "x": [
          "2025-03-30T00:00:00",
          "2025-03-31T00:00:00",
          "2025-04-01T00:00:00",
          "2025-04-02T00:00:00",
          "2025-04-03T00:00:00",
          "2025-04-04T00:00:00",
          "2025-04-05T00:00:00",
          "2025-04-06T00:00:00",
          "2025-04-07T00:00:00",
          "2025-04-08T00:00:00",
          "2025-04-09T00:00:00",
          "2025-04-10T00:00:00",
          "2025-04-11T00:00:00",
          "2025-04-12T00:00:00",
          "2025-04-13T00:00:00",
          "2025-04-14T00:00:00",
          "2025-04-15T00:00:00",
          "2025-04-16T00:00:00",
          "2025-04-17T00:00:00",
          "2025-04-18T00:00:00",
          "2025-04-19T00:00:00",
          "2025-04-20T00:00:00",
          "2025-04-21T00:00:00",
          "2025-04-22T00:00:00",
          "2025-04-23T00:00:00",
          "2025-04-24T00:00:00",
          "2025-04-25T00:00:00",
          "2025-04-26T00:00:00",
          "2025-04-27T00:00:00",
          "2025-04-28T00:00:00",
          "2025-04-29T00:00:00",
          "2025-04-30T00:00:00",
          "2025-05-01T00:00:00",
          "2025-05-02T00:00:00",
          "2025-05-03T00:00:00",
          "2025-05-04T00:00:00",
          "2025-05-05T00:00:00",
          "2025-05-06T00:00:00",
          "2025-05-07T00:00:00",
          "2025-05-08T00:00:00",
          "2025-05-09T00:00:00",
          "2025-05-10T00:00:00",
          "2025-05-11T00:00:00",
          "2025-05-12T00:00:00",
          "2025-05-13T00:00:00",
          "2025-05-14T00:00:00",
          "2025-05-15T00:00:00",
          "2025-05-16T00:00:00",
          "2025-05-17T00:00:00",
          "2025-05-18T00:00:00",
          "2025-05-19T00:00:00",
          "2025-05-20T00:00:00",
          "2025-05-21T00:00:00",
          "2025-05-22T00:00:00",
          "2025-05-23T00:00:00",
          "2025-05-24T00:00:00",
          "2025-05-25T00:00:00",
          "2025-05-26T00:00:00",
          "2025-05-27T00:00:00",
          "2025-05-28T00:00:00",
          "2025-05-29T00:00:00",
          "2025-05-30T00:00:00",
          "2025-05-31T00:00:00",
          "2025-06-01T00:00:00",
          "2025-06-02T00:00:00",
          "2025-06-03T00:00:00",
          "2025-06-04T00:00:00",
          "2025-06-05T00:00:00",
          "2025-06-06T00:00:00",
          "2025-06-07T00:00:00",
          "2025-06-08T00:00:00",
          "2025-06-09T00:00:00",
          "2025-06-10T00:00:00",
          "2025-06-11T00:00:00",
          "2025-06-12T00:00:00",
          "2025-06-13T00:00:00",
          "2025-06-14T00:00:00",
          "2025-06-15T00:00:00",
          "2025-06-16T00:00:00",
          "2025-06-17T00:00:00",
          "2025-06-18T00:00:00",
          "2025-06-19T00:00:00",
          "2025-06-20T00:00:00",
          "2025-06-21T00:00:00",
          "2025-06-22T00:00:00",
          "2025-06-23T00:00:00",
          "2025-06-24T00:00:00",
          "2025-06-25T00:00:00",
          "2025-06-26T00:00:00",
          "2025-06-27T00:00:00",
          "2025-06-28T00:00:00",
          "2025-06-29T00:00:00",
          "2025-06-30T00:00:00",
          "2025-07-01T00:00:00",
          "2025-07-02T00:00:00",
          "2025-07-03T00:00:00",
          "2025-07-04T00:00:00",
          "2025-07-05T00:00:00",
          "2025-07-06T00:00:00",
          "2025-07-07T00:00:00",
          "2025-07-08T00:00:00",
          "2025-07-09T00:00:00",
          "2025-07-10T00:00:00",
          "2025-07-11T00:00:00",
          "2025-07-12T00:00:00",
          "2025-07-13T00:00:00",
          "2025-07-14T00:00:00",
          "2025-07-15T00:00:00",
          "2025-07-16T00:00:00",
          "2025-07-17T00:00:00",
          "2025-07-18T00:00:00",
          "2025-07-19T00:00:00",
          "2025-07-20T00:00:00",
          "2025-07-21T00:00:00",
          "2025-07-22T00:00:00",
          "2025-07-23T00:00:00",
          "2025-07-24T00:00:00",
          "2025-07-25T00:00:00",
          "2025-07-26T00:00:00",
          "2025-07-27T00:00:00",
          "2025-07-28T00:00:00",
          "2025-07-29T00:00:00",
          "2025-07-30T00:00:00",
          "2025-07-31T00:00:00",
          "2025-08-01T00:00:00",
          "2025-08-02T00:00:00",
          "2025-08-03T00:00:00",
          "2025-08-04T00:00:00",
          "2025-08-05T00:00:00",
          "2025-08-06T00:00:00",
          "2025-08-07T00:00:00",
          "2025-08-08T00:00:00",
          "2025-08-09T00:00:00",
          "2025-08-10T00:00:00",
          "2025-08-11T00:00:00",
          "2025-08-12T00:00:00",
          "2025-08-13T00:00:00",
          "2025-08-14T00:00:00",
          "2025-08-15T00:00:00",
          "2025-08-16T00:00:00",
          "2025-08-17T00:00:00",
          "2025-08-18T00:00:00",
          "2025-08-19T00:00:00",
          "2025-08-20T00:00:00",
          "2025-08-21T00:00:00",
          "2025-08-22T00:00:00",
          "2025-08-23T00:00:00",
          "2025-08-24T00:00:00",
          "2025-08-25T00:00:00",
          "2025-08-26T00:00:00",
          "2025-08-27T00:00:00",
          "2025-08-28T00:00:00",
          "2025-08-29T00:00:00",
          "2025-08-30T00:00:00",
          "2025-08-31T00:00:00",
          "2025-09-01T00:00:00",
          "2025-09-02T00:00:00",
          "2025-09-03T00:00:00",
          "2025-09-04T00:00:00",
          "2025-09-05T00:00:00",
          "2025-09-06T00:00:00",
          "2025-09-07T00:00:00",
          "2025-09-08T00:00:00",
          "2025-09-09T00:00:00",
          "2025-09-10T00:00:00",
          "2025-09-11T00:00:00",
          "2025-09-12T00:00:00",
          "2025-09-13T00:00:00",
          "2025-09-14T00:00:00",
          "2025-09-15T00:00:00",
          "2025-09-16T00:00:00",
          "2025-09-17T00:00:00",
          "2025-09-18T00:00:00",
          "2025-09-19T00:00:00",
          "2025-09-20T00:00:00",
          "2025-09-21T00:00:00",
          "2025-09-22T00:00:00",
          "2025-09-23T00:00:00",
          "2025-09-24T00:00:00",
          "2025-09-25T00:00:00"
         ],
         "xaxis": "x2",
         "y": {
          "bdata": "JyoG2eR3kj/5aADW7gaSP0asNQFm/Ys/y1riQnpBiz8o9BLTSWuKP65cKnlE+Yc/uINPjmKkhT9DaD6vVm6FP7HggsA3i4U/AVXwtMgDiD+2X73mUIiHP5sXW4EIOIg/TCat5uBxiD9B9+V592aIP/s9Svr/fog/a9y4jjeiiD9GcGqw2T6JP3zf8Mf5nIk/WGl6qkH3iT+ou6mUws6JP85Tvd34+ok/yY0sA+9Eij/ShIaAUFmKPwZf454ptYo/lxd83ypYij+4WQbuO1GJP0wAA1c7f4c/enMYADFOhj/rIxJLk0CGPysFKnOg2oY/nLxt5dwphz835562T1SHP/6pEB2D1oc/IbnU63+diD82UVNs6NqIP5+3kRcX14g/eSctfLPfiD8r8kAIXgmIPzEmG0WzIYc/V/raPbiMhz8q99o23MiKPxcbnWDPYJM/H+BSvJLtlT/1Sx3J2hWYP3T05xpRjJo/7MgeBXnXmz+Z2lt5m/ebP5VikBoyC5w/xpl7b369mz/I1AjjRi6cP/PuRoyd7Js/ZekBc1tqmz+0It6InzubP4i8P5K5LZw/mYj0hy8dnD/278KQeBecP05IreOS9ps/OloEG3zHmz9ZNxFypW2bP27EUobq2po/P52p5EjumT8+slKsFwuZP0kmaQqblpg/uAlWuAYgmD9iptBZ7EWXP96DJgbnFpY/C67h15QGlT+6GIzc+w+VPwvmSpQvk5Q/umz/TkAZlT/2gaWmEtOVP2xRk8heG5U/FNp/KW33lD/utFjdtuqUP7jtMEwMvJQ/2LRInh7XlD9MzlC+2VqVP1qSzUC61ZU/6LNwJi9+lj/kjuc4nHOWP0MgxeNqoJY/X6wFNDaOlj/X+EXyIUCWP86Vs6bPPZU/fh6I6AiBlT/SYfMIPcmUP/ndcbCOypM/UkkUWVB4kj91p8HIM/KQP6yXoNJK5o4/t+nlfhIJjD8UjCpJm2yLP5g+KyZt+Io/w9GQiwjHij8DLiGWu4mJP2WDkzLXWIg/ez0vLVnRhz9Rr19NMfqHP3FERN/fzIc/hfDw0Q0zhz8r2tK5qZmGP8yPEkZl6YQ/C/OoMopAhD8VGBsx9MqFPzj/6bkGu4c/EsE92eu7iT8tQtupkHOLP8YVFPz2S40/ECpc5zl6kD+RREmAtGmSP2GMQN4rmpU/udXp/GWjmD9CLjYiT+idP6fH6cosyqA/bcjCRN0boj8+MgH0T3qiP6vsU35jmaI/2F747uO2oj+PLoP3GKOiP/M3C7ANlKI/I0cr/xBEoj+dZc8Mov6hP0+ql1RLjKE/ut5lJCXSoD+6ZARFu1igP6dKBNW/A6A/Y/08I3asnj+nXvrJ/CKdP1LCZhs4E5w/VYktmaOQmj8gP7PYh/qYP/6eCKap45c/DEhzUK2Vlz/lF5cbtUyXP/dRRVTGu5Y/j1BIPqg/lj8bNlhDDNSVP/kQiWLAJZU/P98oE7fulD8kVWym3NSUP8g9t2Ge0JQ/cUzLV522lD8kVUPI/SaTP/WGcM7jC5E/CVD+Jo5YjT+GhuDlPFeNP3mHJgIPj40/Fa65aIpHjT8JohOmvkCNPyMh5dPGW4w/a8qVsnBUjD8jrYgYklaMP1Y2Q9pidYw/6gIFTvE0jD8jFGUjCE2LP1WCNpPtFIk/FgeGL82ahz+ATmQATSSHP4FAvJgzvIU/pQ8CrG6xhD/KK0wQBOeEP7CGsTEa1YQ/a5Q/8TgFhT93GurpP6GFP3HUlqU0EYc/fMrQc7eHiT8fBNW+K+GOP4lzsikhbJM/hGblxSyQlT9pjs7ygLuWP/8nUIzq1Zc/HSdAlAN/mT9tAILRwEqaP5e+c++io5o/C/OYfFnImj+GEZYa4BGbPz34LtjMDZs/xUuiT10Bmz/vd/fF8lCaP489nEd6MJo/",
          "dtype": "f8"
         },
         "yaxis": "y2"
        },
        {
         "marker": {
          "color": [
           "red",
           "green",
           "green",
           "red",
           "red",
           "green",
           "red",
           "red",
           "green",
           "red",
           "green",
           "red",
           "green",
           "green",
           "red",
           "red",
           "red",
           "green",
           "green",
           "green",
           "red",
           "red",
           "green",
           "green",
           "red",
           "green",
           "red",
           "green",
           "red",
           "red",
           "red",
           "red",
           "green",
           "green",
           "red",
           "red",
           "green",
           "green",
           "red",
           "green",
           "green",
           "green",
           "red",
           "red",
           "green",
           "red",
           "red",
           "green",
           "red",
           "green",
           "red",
           "green",
           "green",
           "green",
           "red",
           "green",
           "red",
           "green",
           "green",
           "red",
           "red",
           "red",
           "red",
           "green",
           "green",
           "red",
           "red",
           "red",
           "green",
           "green",
           "red",
           "green",
           "green",
           "red",
           "red",
           "red",
           "red",
           "red",
           "red",
           "red",
           "green",
           "green",
           "red",
           "red",
           "red",
           "green",
           "green",
           "red",
           "red",
           "green",
           "green",
           "green",
           "red",
           "red",
           "green",
           "green",
           "red",
           "green",
           "green",
           "red",
           "green",
           "green",
           "green",
           "green",
           "red",
           "green",
           "red",
           "green",
           "green",
           "green",
           "green",
           "green",
           "green",
           "red",
           "red",
           "red",
           "red",
           "green",
           "red",
           "green",
           "red",
           "red",
           "red",
           "red",
           "red",
           "red",
           "green",
           "green",
           "red",
           "green",
           "green",
           "green",
           "green",
           "red",
           "red",
           "green",
           "green",
           "red",
           "green",
           "green",
           "green",
           "red",
           "red",
           "green",
           "red",
           "green",
           "red",
           "red",
           "red",
           "green",
           "green",
           "green",
           "red",
           "green",
           "red",
           "red",
           "green",
           "green",
           "red",
           "green",
           "red",
           "green",
           "green",
           "red",
           "green",
           "green",
           "green",
           "green",
           "red",
           "red",
           "green",
           "green",
           "red",
           "red",
           "green",
           "red",
           "red",
           "red",
           "green",
           "red"
          ]
         },
         "name": "Daily Returns (%)",
         "type": "bar",
         "x": [
          "2025-03-30T00:00:00",
          "2025-03-31T00:00:00",
          "2025-04-01T00:00:00",
          "2025-04-02T00:00:00",
          "2025-04-03T00:00:00",
          "2025-04-04T00:00:00",
          "2025-04-05T00:00:00",
          "2025-04-06T00:00:00",
          "2025-04-07T00:00:00",
          "2025-04-08T00:00:00",
          "2025-04-09T00:00:00",
          "2025-04-10T00:00:00",
          "2025-04-11T00:00:00",
          "2025-04-12T00:00:00",
          "2025-04-13T00:00:00",
          "2025-04-14T00:00:00",
          "2025-04-15T00:00:00",
          "2025-04-16T00:00:00",
          "2025-04-17T00:00:00",
          "2025-04-18T00:00:00",
          "2025-04-19T00:00:00",
          "2025-04-20T00:00:00",
          "2025-04-21T00:00:00",
          "2025-04-22T00:00:00",
          "2025-04-23T00:00:00",
          "2025-04-24T00:00:00",
          "2025-04-25T00:00:00",
          "2025-04-26T00:00:00",
          "2025-04-27T00:00:00",
          "2025-04-28T00:00:00",
          "2025-04-29T00:00:00",
          "2025-04-30T00:00:00",
          "2025-05-01T00:00:00",
          "2025-05-02T00:00:00",
          "2025-05-03T00:00:00",
          "2025-05-04T00:00:00",
          "2025-05-05T00:00:00",
          "2025-05-06T00:00:00",
          "2025-05-07T00:00:00",
          "2025-05-08T00:00:00",
          "2025-05-09T00:00:00",
          "2025-05-10T00:00:00",
          "2025-05-11T00:00:00",
          "2025-05-12T00:00:00",
          "2025-05-13T00:00:00",
          "2025-05-14T00:00:00",
          "2025-05-15T00:00:00",
          "2025-05-16T00:00:00",
          "2025-05-17T00:00:00",
          "2025-05-18T00:00:00",
          "2025-05-19T00:00:00",
          "2025-05-20T00:00:00",
          "2025-05-21T00:00:00",
          "2025-05-22T00:00:00",
          "2025-05-23T00:00:00",
          "2025-05-24T00:00:00",
          "2025-05-25T00:00:00",
          "2025-05-26T00:00:00",
          "2025-05-27T00:00:00",
          "2025-05-28T00:00:00",
          "2025-05-29T00:00:00",
          "2025-05-30T00:00:00",
          "2025-05-31T00:00:00",
          "2025-06-01T00:00:00",
          "2025-06-02T00:00:00",
          "2025-06-03T00:00:00",
          "2025-06-04T00:00:00",
          "2025-06-05T00:00:00",
          "2025-06-06T00:00:00",
          "2025-06-07T00:00:00",
          "2025-06-08T00:00:00",
          "2025-06-09T00:00:00",
          "2025-06-10T00:00:00",
          "2025-06-11T00:00:00",
          "2025-06-12T00:00:00",
          "2025-06-13T00:00:00",
          "2025-06-14T00:00:00",
          "2025-06-15T00:00:00",
          "2025-06-16T00:00:00",
          "2025-06-17T00:00:00",
          "2025-06-18T00:00:00",
          "2025-06-19T00:00:00",
          "2025-06-20T00:00:00",
          "2025-06-21T00:00:00",
          "2025-06-22T00:00:00",
          "2025-06-23T00:00:00",
          "2025-06-24T00:00:00",
          "2025-06-25T00:00:00",
          "2025-06-26T00:00:00",
          "2025-06-27T00:00:00",
          "2025-06-28T00:00:00",
          "2025-06-29T00:00:00",
          "2025-06-30T00:00:00",
          "2025-07-01T00:00:00",
          "2025-07-02T00:00:00",
          "2025-07-03T00:00:00",
          "2025-07-04T00:00:00",
          "2025-07-05T00:00:00",
          "2025-07-06T00:00:00",
          "2025-07-07T00:00:00",
          "2025-07-08T00:00:00",
          "2025-07-09T00:00:00",
          "2025-07-10T00:00:00",
          "2025-07-11T00:00:00",
          "2025-07-12T00:00:00",
          "2025-07-13T00:00:00",
          "2025-07-14T00:00:00",
          "2025-07-15T00:00:00",
          "2025-07-16T00:00:00",
          "2025-07-17T00:00:00",
          "2025-07-18T00:00:00",
          "2025-07-19T00:00:00",
          "2025-07-20T00:00:00",
          "2025-07-21T00:00:00",
          "2025-07-22T00:00:00",
          "2025-07-23T00:00:00",
          "2025-07-24T00:00:00",
          "2025-07-25T00:00:00",
          "2025-07-26T00:00:00",
          "2025-07-27T00:00:00",
          "2025-07-28T00:00:00",
          "2025-07-29T00:00:00",
          "2025-07-30T00:00:00",
          "2025-07-31T00:00:00",
          "2025-08-01T00:00:00",
          "2025-08-02T00:00:00",
          "2025-08-03T00:00:00",
          "2025-08-04T00:00:00",
          "2025-08-05T00:00:00",
          "2025-08-06T00:00:00",
          "2025-08-07T00:00:00",
          "2025-08-08T00:00:00",
          "2025-08-09T00:00:00",
          "2025-08-10T00:00:00",
          "2025-08-11T00:00:00",
          "2025-08-12T00:00:00",
          "2025-08-13T00:00:00",
          "2025-08-14T00:00:00",
          "2025-08-15T00:00:00",
          "2025-08-16T00:00:00",
          "2025-08-17T00:00:00",
          "2025-08-18T00:00:00",
          "2025-08-19T00:00:00",
          "2025-08-20T00:00:00",
          "2025-08-21T00:00:00",
          "2025-08-22T00:00:00",
          "2025-08-23T00:00:00",
          "2025-08-24T00:00:00",
          "2025-08-25T00:00:00",
          "2025-08-26T00:00:00",
          "2025-08-27T00:00:00",
          "2025-08-28T00:00:00",
          "2025-08-29T00:00:00",
          "2025-08-30T00:00:00",
          "2025-08-31T00:00:00",
          "2025-09-01T00:00:00",
          "2025-09-02T00:00:00",
          "2025-09-03T00:00:00",
          "2025-09-04T00:00:00",
          "2025-09-05T00:00:00",
          "2025-09-06T00:00:00",
          "2025-09-07T00:00:00",
          "2025-09-08T00:00:00",
          "2025-09-09T00:00:00",
          "2025-09-10T00:00:00",
          "2025-09-11T00:00:00",
          "2025-09-12T00:00:00",
          "2025-09-13T00:00:00",
          "2025-09-14T00:00:00",
          "2025-09-15T00:00:00",
          "2025-09-16T00:00:00",
          "2025-09-17T00:00:00",
          "2025-09-18T00:00:00",
          "2025-09-19T00:00:00",
          "2025-09-20T00:00:00",
          "2025-09-21T00:00:00",
          "2025-09-22T00:00:00",
          "2025-09-23T00:00:00",
          "2025-09-24T00:00:00",
          "2025-09-25T00:00:00"
         ],
         "xaxis": "x3",
         "y": {
          "bdata": "AgjIXwmh/r+Aontg63nOP7MkDklvrxFADJ9lXgm6FsAYrvA4+830v1Lt+2vLThZAsPb+htpd87+8r8E6VeEnwKAZ7tnrEN0/R4MF/YDVE8DU4pUKYLQpQMmfJ/ZFuRDA1lRzjii4EEAbRAmiZ8sSQGycET47AAfANNOzDkcWBcAeTCzWNv0IwADIuZRRt+c/0IogmynD5T9cAenK9EXzP+BwIzmQ+8a/8lUo07La9b/uCAP8H6wFQA5OHHDcKihAAESpkjukmL8SJoAD8kABQPC5ksA0/tW/gGY1BIbkoD82YVneuILzv0C2ytSlpdm/lkALjWRLA8B2hXWUJwn1v+WoM0JZihNAQKoa31j23D+Qn5WIWKQJwF0tKnsbsQfAAGnMuVg5nz8418j4OFzsP6BkdTBuNrC/Gt3FFjq7LUDeskXp+ToPQD6MQeLsIzVAt8jgA2+iG8AwAs/x+/nLvyXExnhIrxFAYqZXBdnhC8AkC5M5R2YXwMhZb28Soe4/jthqAhXSB8CakcblMiYiQNxStKi+qxDAUK/zosBP6D+q622Y7A8MQASdfs9cvxJAnxmG/dR/IMBAOKKrG4DLP+AmeBZeyMG/cPc4hNWc3T8AZNmMgHyvP+LYk8KaCQPAYXlisFqOBcA7/jxIb+sjwLDWfmG9Wty/2PbNuFB/4T+oXCxhjg3tP1DIyXDocPK/bT4pGv9NBMBKuLfqW6UhwDeE15tRHhFAIvP0AvmwC0Ao54L28jHhvxzbyrmLXhdA2Cy9YQx9+z+l9HTeRUQFwKFMjtCTwRfAkFlKv1yW5L84+/hc9ffwv9TL+ZW1Ffm/yAXcH1cP+7/2So8QeBL8vwCIOYhwLuI/4PPpM3vUyD/o/CLb+NsTwBS0kc7echTACDopbfGL/b9U342cbzwhQJCoQKo9ouo/tGbiyi5D5r82pZ0mQ1IGwOAU7DBXpOU/FEnhhN8Q+j92E6HcMOIMQH7L20LbEAXAkuoj2GbjEcAyHvWrQNAbQBhq7s5Wbf8/6gj9SRlOFcDAayMgo4brPwTAfseSyBJAMeSJNgCzAsBc4eAQ48v8P9072mKN2BZAaHOC8LMQH0BYRxorhkMKQFj9j+2Xsv6/WOFtmOiL5D/w/w3dfcHiv4ASBgZ4Duw/MrWobMdIG0B4lKbYu9sDQDfahCSzmiBAssWUlVEsAkCgum9K4wgqQFi3q6qvX9y/wKotKuOP37+HJ4mbyf0lwMv9E5ay1gzAckvBekGvAEAo++KaIorhvzp7OhxA9wFATvuSbgbgGcBwWAaJKFzkv9JfQeE31fu/EASHLDs9EsBaM5tj4H8QwErr3dUT4hPAiRrU1MUAEEDwryc73ToXQNZm7jChShTATqmwzcUXBkCeNH2kQLIgQLYNR3spJQxAvNaWC2mREUA23xrTq7kEwM3SoUTIuxPAp65Vu/OSF0BsVhJ2hC8QQBi1rWh6YSHAvAUNPX7dAED0D1v7dW3yP2CQq0jg9vY/HkI0x8CzFMAA2d8HgA4YwGesP4f9uhdA4qjoBS81CMAXpruf9RAoQJ4p8hUTd/6/IvdSslGM/L8C7I36qPUiwKLHsoMNeRBAoFken4qZyj/wOJOYY88DQHAQTe+3XxLASGoZ1kUU7T+KCLWe1wnwv5KBCjC6pfq/oAAFmpxdAUDe77OvOGIFQCRv7yZvUQ3Avm1tietuBEDIQLlTmKLtv0NwGnkXRBdAlTG78puHF0DIxZPxXYPfv/C5QQzeRv8/7BHL1Ju6EEC8mJfHk+4eQHr+AtFfYhRA++YYD4QNDsDLz9eH5ZkMwBBXfa0jL9s/huGI+ATSEkAoSlPymd/0vyAf5tQYNxPAIEZAeBd77D9OEirtqrADwMA4kcdnZB7AMizKzzwL+r8EkxiWUv35P/Q0emfCvB7A",
          "dtype": "f8"
         },
         "yaxis": "y3"
        }
       ],
       "layout": {
        "annotations": [
         {
          "font": {
           "size": 16
          },
          "showarrow": false,
          "text": "Price with Moving Averages",
          "x": 0.5,
          "xanchor": "center",
          "xref": "paper",
          "y": 1,
          "yanchor": "bottom",
          "yref": "paper"
         },
         {
          "font": {
           "size": 16
          },
          "showarrow": false,
          "text": "Volatility",
          "x": 0.5,
          "xanchor": "center",
          "xref": "paper",
          "y": 0.668,
          "yanchor": "bottom",
          "yref": "paper"
         },
         {
          "font": {
           "size": 16
          },
          "showarrow": false,
          "text": "Daily Returns",
          "x": 0.5,
          "xanchor": "center",
          "xref": "paper",
          "y": 0.336,
          "yanchor": "bottom",
          "yref": "paper"
         }
        ],
        "height": 900,
        "showlegend": true,
        "template": {
         "data": {
          "bar": [
           {
            "error_x": {
             "color": "#2a3f5f"
            },
            "error_y": {
             "color": "#2a3f5f"
            },
            "marker": {
             "line": {
              "color": "white",
              "width": 0.5
             },
             "pattern": {
              "fillmode": "overlay",
              "size": 10,
              "solidity": 0.2
             }
            },
            "type": "bar"
           }
          ],
          "barpolar": [
           {
            "marker": {
             "line": {
              "color": "white",
              "width": 0.5
             },
             "pattern": {
              "fillmode": "overlay",
              "size": 10,
              "solidity": 0.2
             }
            },
            "type": "barpolar"
           }
          ],
          "carpet": [
           {
            "aaxis": {
             "endlinecolor": "#2a3f5f",
             "gridcolor": "#C8D4E3",
             "linecolor": "#C8D4E3",
             "minorgridcolor": "#C8D4E3",
             "startlinecolor": "#2a3f5f"
            },
            "baxis": {
             "endlinecolor": "#2a3f5f",
             "gridcolor": "#C8D4E3",
             "linecolor": "#C8D4E3",
             "minorgridcolor": "#C8D4E3",
             "startlinecolor": "#2a3f5f"
            },
            "type": "carpet"
           }
          ],
          "choropleth": [
           {
            "colorbar": {
             "outlinewidth": 0,
             "ticks": ""
            },
            "type": "choropleth"
           }
          ],
          "contour": [
           {
            "colorbar": {
             "outlinewidth": 0,
             "ticks": ""
            },
            "colorscale": [
             [
              0,
              "#0d0887"
             ],
             [
              0.1111111111111111,
              "#46039f"
             ],
             [
              0.2222222222222222,
              "#7201a8"
             ],
             [
              0.3333333333333333,
              "#9c179e"
             ],
             [
              0.4444444444444444,
              "#bd3786"
             ],
             [
              0.5555555555555556,
              "#d8576b"
             ],
             [
              0.6666666666666666,
              "#ed7953"
             ],
             [
              0.7777777777777778,
              "#fb9f3a"
             ],
             [
              0.8888888888888888,
              "#fdca26"
             ],
             [
              1,
              "#f0f921"
             ]
            ],
            "type": "contour"
           }
          ],
          "contourcarpet": [
           {
            "colorbar": {
             "outlinewidth": 0,
             "ticks": ""
            },
            "type": "contourcarpet"
           }
          ],
          "heatmap": [
           {
            "colorbar": {
             "outlinewidth": 0,
             "ticks": ""
            },
            "colorscale": [
             [
              0,
              "#0d0887"
             ],
             [
              0.1111111111111111,
              "#46039f"
             ],
             [
              0.2222222222222222,
              "#7201a8"
             ],
             [
              0.3333333333333333,
              "#9c179e"
             ],
             [
              0.4444444444444444,
              "#bd3786"
             ],
             [
              0.5555555555555556,
              "#d8576b"
             ],
             [
              0.6666666666666666,
              "#ed7953"
             ],
             [
              0.7777777777777778,
              "#fb9f3a"
             ],
             [
              0.8888888888888888,
              "#fdca26"
             ],
             [
              1,
              "#f0f921"
             ]
            ],
            "type": "heatmap"
           }
          ],
          "histogram": [
           {
            "marker": {
             "pattern": {
              "fillmode": "overlay",
              "size": 10,
              "solidity": 0.2
             }
            },
            "type": "histogram"
           }
          ],
          "histogram2d": [
           {
            "colorbar": {
             "outlinewidth": 0,
             "ticks": ""
            },
            "colorscale": [
             [
              0,
              "#0d0887"
             ],
             [
              0.1111111111111111,
              "#46039f"
             ],
             [
              0.2222222222222222,
              "#7201a8"
             ],
             [
              0.3333333333333333,
              "#9c179e"
             ],
             [
              0.4444444444444444,
              "#bd3786"
             ],
             [
              0.5555555555555556,
              "#d8576b"
             ],
             [
              0.6666666666666666,
              "#ed7953"
             ],
             [
              0.7777777777777778,
              "#fb9f3a"
             ],
             [
              0.8888888888888888,
              "#fdca26"
             ],
             [
              1,
              "#f0f921"
             ]
            ],
            "type": "histogram2d"
           }
          ],
          "histogram2dcontour": [
           {
            "colorbar": {
             "outlinewidth": 0,
             "ticks": ""
            },
            "colorscale": [
             [
              0,
              "#0d0887"
             ],
             [
              0.1111111111111111,
              "#46039f"
             ],
             [
              0.2222222222222222,
              "#7201a8"
             ],
             [
              0.3333333333333333,
              "#9c179e"
             ],
             [
              0.4444444444444444,
              "#bd3786"
             ],
             [
              0.5555555555555556,
              "#d8576b"
             ],
             [
              0.6666666666666666,
              "#ed7953"
             ],
             [
              0.7777777777777778,
              "#fb9f3a"
             ],
             [
              0.8888888888888888,
              "#fdca26"
             ],
             [
              1,
              "#f0f921"
             ]
            ],
            "type": "histogram2dcontour"
           }
          ],
          "mesh3d": [
           {
            "colorbar": {
             "outlinewidth": 0,
             "ticks": ""
            },
            "type": "mesh3d"
           }
          ],
          "parcoords": [
           {
            "line": {
             "colorbar": {
              "outlinewidth": 0,
              "ticks": ""
             }
            },
            "type": "parcoords"
           }
          ],
          "pie": [
           {
            "automargin": true,
            "type": "pie"
           }
          ],
          "scatter": [
           {
            "fillpattern": {
             "fillmode": "overlay",
             "size": 10,
             "solidity": 0.2
            },
            "type": "scatter"
           }
          ],
          "scatter3d": [
           {
            "line": {
             "colorbar": {
              "outlinewidth": 0,
              "ticks": ""
             }
            },
            "marker": {
             "colorbar": {
              "outlinewidth": 0,
              "ticks": ""
             }
            },
            "type": "scatter3d"
           }
          ],
          "scattercarpet": [
           {
            "marker": {
             "colorbar": {
              "outlinewidth": 0,
              "ticks": ""
             }
            },
            "type": "scattercarpet"
           }
          ],
          "scattergeo": [
           {
            "marker": {
             "colorbar": {
              "outlinewidth": 0,
              "ticks": ""
             }
            },
            "type": "scattergeo"
           }
          ],
          "scattergl": [
           {
            "marker": {
             "colorbar": {
              "outlinewidth": 0,
              "ticks": ""
             }
            },
            "type": "scattergl"
           }
          ],
          "scattermap": [
           {
            "marker": {
             "colorbar": {
              "outlinewidth": 0,
              "ticks": ""
             }
            },
            "type": "scattermap"
           }
          ],
          "scattermapbox": [
           {
            "marker": {
             "colorbar": {
              "outlinewidth": 0,
              "ticks": ""
             }
            },
            "type": "scattermapbox"
           }
          ],
          "scatterpolar": [
           {
            "marker": {
             "colorbar": {
              "outlinewidth": 0,
              "ticks": ""
             }
            },
            "type": "scatterpolar"
           }
          ],
          "scatterpolargl": [
           {
            "marker": {
             "colorbar": {
              "outlinewidth": 0,
              "ticks": ""
             }
            },
            "type": "scatterpolargl"
           }
          ],
          "scatterternary": [
           {
            "marker": {
             "colorbar": {
              "outlinewidth": 0,
              "ticks": ""
             }
            },
            "type": "scatterternary"
           }
          ],
          "surface": [
           {
            "colorbar": {
             "outlinewidth": 0,
             "ticks": ""
            },
            "colorscale": [
             [
              0,
              "#0d0887"
             ],
             [
              0.1111111111111111,
              "#46039f"
             ],
             [
              0.2222222222222222,
              "#7201a8"
             ],
             [
              0.3333333333333333,
              "#9c179e"
             ],
             [
              0.4444444444444444,
              "#bd3786"
             ],
             [
              0.5555555555555556,
              "#d8576b"
             ],
             [
              0.6666666666666666,
              "#ed7953"
             ],
             [
              0.7777777777777778,
              "#fb9f3a"
             ],
             [
              0.8888888888888888,
              "#fdca26"
             ],
             [
              1,
              "#f0f921"
             ]
            ],
            "type": "surface"
           }
          ],
          "table": [
           {
            "cells": {
             "fill": {
              "color": "#EBF0F8"
             },
             "line": {
              "color": "white"
             }
            },
            "header": {
             "fill": {
              "color": "#C8D4E3"
             },
             "line": {
              "color": "white"
             }
            },
            "type": "table"
           }
          ]
         },
         "layout": {
          "annotationdefaults": {
           "arrowcolor": "#2a3f5f",
           "arrowhead": 0,
           "arrowwidth": 1
          },
          "autotypenumbers": "strict",
          "coloraxis": {
           "colorbar": {
            "outlinewidth": 0,
            "ticks": ""
           }
          },
          "colorscale": {
           "diverging": [
            [
             0,
             "#8e0152"
            ],
            [
             0.1,
             "#c51b7d"
            ],
            [
             0.2,
             "#de77ae"
            ],
            [
             0.3,
             "#f1b6da"
            ],
            [
             0.4,
             "#fde0ef"
            ],
            [
             0.5,
             "#f7f7f7"
            ],
            [
             0.6,
             "#e6f5d0"
            ],
            [
             0.7,
             "#b8e186"
            ],
            [
             0.8,
             "#7fbc41"
            ],
            [
             0.9,
             "#4d9221"
            ],
            [
             1,
             "#276419"
            ]
           ],
           "sequential": [
            [
             0,
             "#0d0887"
            ],
            [
             0.1111111111111111,
             "#46039f"
            ],
            [
             0.2222222222222222,
             "#7201a8"
            ],
            [
             0.3333333333333333,
             "#9c179e"
            ],
            [
             0.4444444444444444,
             "#bd3786"
            ],
            [
             0.5555555555555556,
             "#d8576b"
            ],
            [
             0.6666666666666666,
             "#ed7953"
            ],
            [
             0.7777777777777778,
             "#fb9f3a"
            ],
            [
             0.8888888888888888,
             "#fdca26"
            ],
            [
             1,
             "#f0f921"
            ]
           ],
           "sequentialminus": [
            [
             0,
             "#0d0887"
            ],
            [
             0.1111111111111111,
             "#46039f"
            ],
            [
             0.2222222222222222,
             "#7201a8"
            ],
            [
             0.3333333333333333,
             "#9c179e"
            ],
            [
             0.4444444444444444,
             "#bd3786"
            ],
            [
             0.5555555555555556,
             "#d8576b"
            ],
            [
             0.6666666666666666,
             "#ed7953"
            ],
            [
             0.7777777777777778,
             "#fb9f3a"
            ],
            [
             0.8888888888888888,
             "#fdca26"
            ],
            [
             1,
             "#f0f921"
            ]
           ]
          },
          "colorway": [
           "#636efa",
           "#EF553B",
           "#00cc96",
           "#ab63fa",
           "#FFA15A",
           "#19d3f3",
           "#FF6692",
           "#B6E880",
           "#FF97FF",
           "#FECB52"
          ],
          "font": {
           "color": "#2a3f5f"
          },
          "geo": {
           "bgcolor": "white",
           "lakecolor": "white",
           "landcolor": "white",
           "showlakes": true,
           "showland": true,
           "subunitcolor": "#C8D4E3"
          },
          "hoverlabel": {
           "align": "left"
          },
          "hovermode": "closest",
          "mapbox": {
           "style": "light"
          },
          "paper_bgcolor": "white",
          "plot_bgcolor": "white",
          "polar": {
           "angularaxis": {
            "gridcolor": "#EBF0F8",
            "linecolor": "#EBF0F8",
            "ticks": ""
           },
           "bgcolor": "white",
           "radialaxis": {
            "gridcolor": "#EBF0F8",
            "linecolor": "#EBF0F8",
            "ticks": ""
           }
          },
          "scene": {
           "xaxis": {
            "backgroundcolor": "white",
            "gridcolor": "#DFE8F3",
            "gridwidth": 2,
            "linecolor": "#EBF0F8",
            "showbackground": true,
            "ticks": "",
            "zerolinecolor": "#EBF0F8"
           },
           "yaxis": {
            "backgroundcolor": "white",
            "gridcolor": "#DFE8F3",
            "gridwidth": 2,
            "linecolor": "#EBF0F8",
            "showbackground": true,
            "ticks": "",
            "zerolinecolor": "#EBF0F8"
           },
           "zaxis": {
            "backgroundcolor": "white",
            "gridcolor": "#DFE8F3",
            "gridwidth": 2,
            "linecolor": "#EBF0F8",
            "showbackground": true,
            "ticks": "",
            "zerolinecolor": "#EBF0F8"
           }
          },
          "shapedefaults": {
           "line": {
            "color": "#2a3f5f"
           }
          },
          "ternary": {
           "aaxis": {
            "gridcolor": "#DFE8F3",
            "linecolor": "#A2B1C6",
            "ticks": ""
           },
           "baxis": {
            "gridcolor": "#DFE8F3",
            "linecolor": "#A2B1C6",
            "ticks": ""
           },
           "bgcolor": "white",
           "caxis": {
            "gridcolor": "#DFE8F3",
            "linecolor": "#A2B1C6",
            "ticks": ""
           }
          },
          "title": {
           "x": 0.05
          },
          "xaxis": {
           "automargin": true,
           "gridcolor": "#EBF0F8",
           "linecolor": "#EBF0F8",
           "ticks": "",
           "title": {
            "standoff": 15
           },
           "zerolinecolor": "#EBF0F8",
           "zerolinewidth": 2
          },
          "yaxis": {
           "automargin": true,
           "gridcolor": "#EBF0F8",
           "linecolor": "#EBF0F8",
           "ticks": "",
           "title": {
            "standoff": 15
           },
           "zerolinecolor": "#EBF0F8",
           "zerolinewidth": 2
          }
         }
        },
        "title": {
         "text": "📊 DOGE Technical Analysis (Last 6 Months)"
        },
        "xaxis": {
         "anchor": "y",
         "domain": [
          0,
          1
         ],
         "matches": "x3",
         "showticklabels": false
        },
        "xaxis2": {
         "anchor": "y2",
         "domain": [
          0,
          1
         ],
         "matches": "x3",
         "showticklabels": false
        },
        "xaxis3": {
         "anchor": "y3",
         "domain": [
          0,
          1
         ],
         "title": {
          "text": "Date"
         }
        },
        "yaxis": {
         "anchor": "x",
         "domain": [
          0.7480000000000001,
          1
         ],
         "title": {
          "text": "Price ($)"
         }
        },
        "yaxis2": {
         "anchor": "x2",
         "domain": [
          0.41600000000000004,
          0.668
         ],
         "title": {
          "text": "Volatility"
         }
        },
        "yaxis3": {
         "anchor": "x3",
         "domain": [
          0,
          0.336
         ],
         "title": {
          "text": "Returns (%)"
         }
        }
       }
      }
     },
     "metadata": {},
     "output_type": "display_data"
    },
    {
     "name": "stdout",
     "output_type": "stream",
     "text": [
      "\n",
      "📊 Technical Analysis Summary:\n",
      "Current 7-day MA:  $0.248136\n",
      "Current 30-day MA: $0.242371\n",
      "Current volatility: 0.025576\n",
      "Price vs 7-day MA: -10.2%\n",
      "Price vs 30-day MA: -8.1%\n"
     ]
    }
   ],
   "source": [
    "# Technical Analysis with Moving Averages\n",
    "print(\"📈 Calculating technical indicators...\")\n",
    "\n",
    "# Calculate moving averages\n",
    "doge_data['MA_7'] = doge_data['Close'].rolling(window=7).mean()\n",
    "doge_data['MA_30'] = doge_data['Close'].rolling(window=30).mean()\n",
    "doge_data['MA_90'] = doge_data['Close'].rolling(window=90).mean()\n",
    "\n",
    "# Calculate volatility (30-day rolling standard deviation)\n",
    "doge_data['Volatility'] = doge_data['Close'].rolling(window=30).std()\n",
    "\n",
    "# Calculate daily returns\n",
    "doge_data['Daily_Return'] = doge_data['Close'].pct_change()\n",
    "\n",
    "# Recent data for visualization (last 6 months)\n",
    "recent_data = doge_data.tail(180)\n",
    "\n",
    "# Create technical analysis chart\n",
    "fig = make_subplots(\n",
    "    rows=3, cols=1,\n",
    "    shared_xaxes=True,\n",
    "    subplot_titles=('Price with Moving Averages', 'Volatility', 'Daily Returns'),\n",
    "    vertical_spacing=0.08,\n",
    "    row_width=[0.4, 0.3, 0.3]\n",
    ")\n",
    "\n",
    "# Price chart with moving averages\n",
    "fig.add_trace(go.Scatter(x=recent_data['Date'], y=recent_data['Close'],\n",
    "                        mode='lines', name='DOGE Price',\n",
    "                        line=dict(color='blue', width=2)), row=1, col=1)\n",
    "\n",
    "fig.add_trace(go.Scatter(x=recent_data['Date'], y=recent_data['MA_7'],\n",
    "                        mode='lines', name='7-day MA',\n",
    "                        line=dict(color='orange', width=1)), row=1, col=1)\n",
    "\n",
    "fig.add_trace(go.Scatter(x=recent_data['Date'], y=recent_data['MA_30'],\n",
    "                        mode='lines', name='30-day MA',\n",
    "                        line=dict(color='red', width=1)), row=1, col=1)\n",
    "\n",
    "# Volatility chart\n",
    "fig.add_trace(go.Scatter(x=recent_data['Date'], y=recent_data['Volatility'],\n",
    "                        mode='lines', name='Volatility',\n",
    "                        line=dict(color='purple'), fill='tozeroy'), row=2, col=1)\n",
    "\n",
    "# Daily returns chart\n",
    "colors = ['red' if x < 0 else 'green' for x in recent_data['Daily_Return']]\n",
    "fig.add_trace(go.Bar(x=recent_data['Date'], y=recent_data['Daily_Return'] * 100,\n",
    "                    name='Daily Returns (%)', \n",
    "                    marker_color=colors), row=3, col=1)\n",
    "\n",
    "# Update layout\n",
    "fig.update_layout(\n",
    "    title='📊 DOGE Technical Analysis (Last 6 Months)',\n",
    "    height=900,\n",
    "    template='plotly_white',\n",
    "    showlegend=True\n",
    ")\n",
    "\n",
    "fig.update_yaxes(title_text=\"Price ($)\", row=1, col=1)\n",
    "fig.update_yaxes(title_text=\"Volatility\", row=2, col=1)\n",
    "fig.update_yaxes(title_text=\"Returns (%)\", row=3, col=1)\n",
    "fig.update_xaxes(title_text=\"Date\", row=3, col=1)\n",
    "\n",
    "fig.show()\n",
    "\n",
    "# Print technical analysis summary\n",
    "current_ma7 = doge_data['MA_7'].iloc[-1]\n",
    "current_ma30 = doge_data['MA_30'].iloc[-1]\n",
    "current_vol = doge_data['Volatility'].iloc[-1]\n",
    "\n",
    "print(\"\\n📊 Technical Analysis Summary:\")\n",
    "print(f\"Current 7-day MA:  ${current_ma7:.6f}\")\n",
    "print(f\"Current 30-day MA: ${current_ma30:.6f}\")\n",
    "print(f\"Current volatility: {current_vol:.6f}\")\n",
    "print(f\"Price vs 7-day MA: {((current_price / current_ma7 - 1) * 100):+.1f}%\")\n",
    "print(f\"Price vs 30-day MA: {((current_price / current_ma30 - 1) * 100):+.1f}%\")"
   ]
  },
  {
   "cell_type": "code",
   "execution_count": 8,
   "id": "7d8b0ba1",
   "metadata": {},
   "outputs": [
    {
     "data": {
      "image/png": "[encoded data removed]",
      "text/plain": [
       "<Figure size 1500x1000 with 5 Axes>"
      ]
     },
     "metadata": {},
     "output_type": "display_data"
    },
    {
     "name": "stdout",
     "output_type": "stream",
     "text": [
      "\n",
      "📊 Statistical Summary:\n",
      "Mean daily return: 0.53%\n",
      "Std daily return:  10.29%\n",
      "Best day:  355.55%\n",
      "Worst day: -40.26%\n",
      "Prediction volatility: 0.012207\n",
      "Days with positive predictions: 3 out of 30\n"
     ]
    }
   ],
   "source": [
    "# Statistical Analysis with Matplotlib and Seaborn\n",
    "fig, axes = plt.subplots(2, 2, figsize=(15, 10))\n",
    "fig.suptitle('📈 DOGE Statistical Analysis', fontsize=16, fontweight='bold')\n",
    "\n",
    "# 1. Price distribution histogram\n",
    "axes[0,0].hist(doge_data['Close'], bins=50, alpha=0.7, color='skyblue', edgecolor='black')\n",
    "axes[0,0].axvline(current_price, color='red', linestyle='--', label=f'Current: ${current_price:.6f}')\n",
    "axes[0,0].set_xlabel('Price ($)')\n",
    "axes[0,0].set_ylabel('Frequency')\n",
    "axes[0,0].set_title('Historical Price Distribution')\n",
    "axes[0,0].legend()\n",
    "axes[0,0].grid(True, alpha=0.3)\n",
    "\n",
    "# 2. Daily returns distribution\n",
    "daily_returns = doge_data['Daily_Return'].dropna() * 100\n",
    "axes[0,1].hist(daily_returns, bins=50, alpha=0.7, color='lightgreen', edgecolor='black')\n",
    "axes[0,1].axvline(0, color='red', linestyle='--', label='No Change')\n",
    "axes[0,1].set_xlabel('Daily Return (%)')\n",
    "axes[0,1].set_ylabel('Frequency')\n",
    "axes[0,1].set_title('Daily Returns Distribution')\n",
    "axes[0,1].legend()\n",
    "axes[0,1].grid(True, alpha=0.3)\n",
    "\n",
    "# 3. Predictions vs Current Price\n",
    "pred_data = predictions_df['Predicted_Price']\n",
    "x_pos = range(len(pred_data))\n",
    "bars = axes[1,0].bar(x_pos, pred_data, alpha=0.7, color='orange')\n",
    "axes[1,0].axhline(current_price, color='red', linestyle='--', label=f'Current: ${current_price:.6f}')\n",
    "axes[1,0].set_xlabel('Days Ahead')\n",
    "axes[1,0].set_ylabel('Predicted Price ($)')\n",
    "axes[1,0].set_title('30-Day Price Predictions')\n",
    "axes[1,0].legend()\n",
    "axes[1,0].grid(True, alpha=0.3)\n",
    "\n",
    "# Color bars based on whether they're above or below current price\n",
    "for i, bar in enumerate(bars):\n",
    "    if pred_data.iloc[i] < current_price:\n",
    "        bar.set_color('red')\n",
    "        bar.set_alpha(0.6)\n",
    "    else:\n",
    "        bar.set_color('green')\n",
    "        bar.set_alpha(0.6)\n",
    "\n",
    "# 4. Correlation heatmap of OHLC data\n",
    "correlation_data = doge_data[['Open', 'High', 'Low', 'Close', 'Volume']].tail(100).corr()\n",
    "sns.heatmap(correlation_data, annot=True, cmap='coolwarm', center=0, \n",
    "            square=True, ax=axes[1,1])\n",
    "axes[1,1].set_title('OHLC Correlation Matrix (Last 100 Days)')\n",
    "\n",
    "plt.tight_layout()\n",
    "plt.show()\n",
    "\n",
    "# Print statistical summary\n",
    "print(\"\\n📊 Statistical Summary:\")\n",
    "print(f\"Mean daily return: {daily_returns.mean():.2f}%\")\n",
    "print(f\"Std daily return:  {daily_returns.std():.2f}%\")\n",
    "print(f\"Best day:  {daily_returns.max():.2f}%\")\n",
    "print(f\"Worst day: {daily_returns.min():.2f}%\")\n",
    "print(f\"Prediction volatility: {pred_data.std():.6f}\")\n",
    "print(f\"Days with positive predictions: {sum(pred_data > current_price)} out of {len(pred_data)}\")"
   ]
  },
  {
   "cell_type": "code",
   "execution_count": 9,
   "id": "9c17eeb9",
   "metadata": {},
   "outputs": [
    {
     "name": "stdout",
     "output_type": "stream",
     "text": [
      "🔬 Analyzing LSTM model performance...\n",
      "✅ Model Performance Metrics:\n",
      "MSE (Mean Squared Error): 0.00021134\n",
      "MAE (Mean Absolute Error): 0.007734\n",
      "MAPE (Mean Absolute Percentage Error): 38.51%\n"
     ]
    },
    {
     "data": {
      "image/png": "[encoded data removed]",
      "text/plain": [
       "<Figure size 1500x600 with 2 Axes>"
      ]
     },
     "metadata": {},
     "output_type": "display_data"
    },
    {
     "name": "stdout",
     "output_type": "stream",
     "text": [
      "\n",
      "🎯 Prediction Accuracy:\n",
      "Within 5% of actual:  47.6% of predictions\n",
      "Within 10% of actual: 74.1% of predictions\n"
     ]
    }
   ],
   "source": [
    "# Model Performance Analysis\n",
    "print(\"🔬 Analyzing LSTM model performance...\")\n",
    "\n",
    "# Create test predictions on historical data to evaluate model\n",
    "def evaluate_model_performance(data, model, sequence_length=60):\n",
    "    \"\"\"Evaluate model performance on historical data\"\"\"\n",
    "    close_prices = data['Close'].values.reshape(-1, 1)\n",
    "    scaler = MinMaxScaler(feature_range=(0, 1))\n",
    "    scaled_data = scaler.fit_transform(close_prices)\n",
    "    \n",
    "    # Create sequences for testing\n",
    "    X_test, y_test = [], []\n",
    "    for i in range(sequence_length, len(scaled_data) - 30):  # Leave last 30 for prediction\n",
    "        X_test.append(scaled_data[i-sequence_length:i, 0])\n",
    "        y_test.append(scaled_data[i, 0])\n",
    "    \n",
    "    X_test, y_test = np.array(X_test), np.array(y_test)\n",
    "    X_test = np.reshape(X_test, (X_test.shape[0], X_test.shape[1], 1))\n",
    "    \n",
    "    # Make predictions\n",
    "    predictions = model.predict(X_test, verbose=0)\n",
    "    \n",
    "    # Convert back to actual prices\n",
    "    predictions = scaler.inverse_transform(predictions)\n",
    "    y_test_actual = scaler.inverse_transform(y_test.reshape(-1, 1))\n",
    "    \n",
    "    return predictions.flatten(), y_test_actual.flatten()\n",
    "\n",
    "# Evaluate model\n",
    "try:\n",
    "    pred_hist, actual_hist = evaluate_model_performance(doge_data, model)\n",
    "    \n",
    "    # Calculate metrics\n",
    "    mse = mean_squared_error(actual_hist, pred_hist)\n",
    "    mae = mean_absolute_error(actual_hist, pred_hist)\n",
    "    mape = np.mean(np.abs((actual_hist - pred_hist) / actual_hist)) * 100\n",
    "    \n",
    "    print(f\"✅ Model Performance Metrics:\")\n",
    "    print(f\"MSE (Mean Squared Error): {mse:.8f}\")\n",
    "    print(f\"MAE (Mean Absolute Error): {mae:.6f}\")\n",
    "    print(f\"MAPE (Mean Absolute Percentage Error): {mape:.2f}%\")\n",
    "    \n",
    "    # Create performance visualization\n",
    "    fig, (ax1, ax2) = plt.subplots(1, 2, figsize=(15, 6))\n",
    "    \n",
    "    # Prediction vs Actual scatter plot\n",
    "    ax1.scatter(actual_hist, pred_hist, alpha=0.5, color='blue', s=10)\n",
    "    ax1.plot([actual_hist.min(), actual_hist.max()], [actual_hist.min(), actual_hist.max()], \n",
    "             'r--', lw=2, label='Perfect Prediction')\n",
    "    ax1.set_xlabel('Actual Price ($)')\n",
    "    ax1.set_ylabel('Predicted Price ($)')\n",
    "    ax1.set_title('Actual vs Predicted Prices')\n",
    "    ax1.legend()\n",
    "    ax1.grid(True, alpha=0.3)\n",
    "    \n",
    "    # Residuals plot\n",
    "    residuals = actual_hist - pred_hist\n",
    "    ax2.scatter(range(len(residuals)), residuals, alpha=0.5, color='green', s=10)\n",
    "    ax2.axhline(0, color='red', linestyle='--', label='Zero Error')\n",
    "    ax2.set_xlabel('Sample Index')\n",
    "    ax2.set_ylabel('Residual (Actual - Predicted)')\n",
    "    ax2.set_title('Prediction Residuals')\n",
    "    ax2.legend()\n",
    "    ax2.grid(True, alpha=0.3)\n",
    "    \n",
    "    plt.suptitle('🔬 LSTM Model Performance Analysis', fontsize=14, fontweight='bold')\n",
    "    plt.tight_layout()\n",
    "    plt.show()\n",
    "    \n",
    "    # Model accuracy assessment\n",
    "    accuracy_5pct = np.mean(np.abs(residuals / actual_hist) <= 0.05) * 100\n",
    "    accuracy_10pct = np.mean(np.abs(residuals / actual_hist) <= 0.10) * 100\n",
    "    \n",
    "    print(f\"\\n🎯 Prediction Accuracy:\")\n",
    "    print(f\"Within 5% of actual:  {accuracy_5pct:.1f}% of predictions\")\n",
    "    print(f\"Within 10% of actual: {accuracy_10pct:.1f}% of predictions\")\n",
    "    \n",
    "except Exception as e:\n",
    "    print(f\"❌ Error in performance analysis: {e}\")\n",
    "    print(\"Note: This analysis requires sufficient historical data\")"
   ]
  },
  {
   "cell_type": "markdown",
   "id": "0873c842",
   "metadata": {},
   "source": [
    "## 📋 Summary Report\n",
    "\n",
    "Let's create a comprehensive summary of our DOGE price prediction analysis."
   ]
  },
  {
   "cell_type": "code",
   "execution_count": 11,
   "id": "c72f66f1",
   "metadata": {},
   "outputs": [
    {
     "name": "stdout",
     "output_type": "stream",
     "text": [
      "======================================================================\n",
      "🐕 DOGE CRYPTOCURRENCY PRICE PREDICTION REPORT\n",
      "======================================================================\n",
      "📅 Report Generated: 2025-09-27 00:15:56\n",
      "🤖 Model: LSTM Neural Network\n",
      "📊 Analysis Period: 2020-01-01 to 2025-09-25\n",
      "\n",
      "📊 CURRENT MARKET STATUS\n",
      "------------------------------\n",
      "Current DOGE Price:     $0.222706\n",
      "All-Time High:          $0.684777\n",
      "All-Time Low:           $0.001537\n",
      "Distance from ATH:      32.5%\n",
      "7-Day Moving Average:   $0.248136\n",
      "30-Day Moving Average:  $0.242371\n",
      "\n",
      "🔮 30-DAY PRICE PREDICTIONS\n",
      "------------------------------\n",
      "Prediction Range:       $0.187466 - $0.227931\n",
      "Average Prediction:     $0.207381\n",
      "Expected Change:        -6.9%\n",
      "Best Case Scenario:     +2.3%\n",
      "Worst Case Scenario:    -15.8%\n",
      "Bullish Days:           3/30 (10%)\n",
      "Bearish Days:           27/30 (90%)\n",
      "\n",
      "📈 KEY PREDICTION MILESTONES\n",
      "------------------------------\n",
      "Week 1 Average:         $0.223044 (+0.2%)\n",
      "Week 2 Average:         $0.214147 (-3.8%)\n",
      "Week 3 Average:         $0.203712 (-8.5%)\n",
      "Week 4 Average:         $0.194120 (-12.8%)\n",
      "\n",
      "⚠️  RISK ASSESSMENT\n",
      "------------------------------\n",
      "Prediction Volatility:  0.012207\n",
      "Risk Level:             MEDIUM\n",
      "Max Potential Loss:     -15.8%\n",
      "Max Potential Gain:     +2.3%\n",
      "\n",
      "🎯 MODEL RECOMMENDATION\n",
      "------------------------------\n",
      "🔴 BEARISH - Model suggests significant downward movement\n",
      "\n",
      "⚠️  IMPORTANT DISCLAIMERS\n",
      "------------------------------\n",
      "• This analysis is for educational purposes only\n",
      "• Cryptocurrency markets are highly volatile and unpredictable\n",
      "• Past performance does not guarantee future results\n",
      "• Always do your own research before making investment decisions\n",
      "• Never invest more than you can afford to lose\n",
      "======================================================================\n",
      "📄 Summary report saved to '../reports/doge_prediction_summary.txt'\n"
     ]
    }
   ],
   "source": [
    "# Comprehensive Summary Report\n",
    "from datetime import datetime, timedelta\n",
    "\n",
    "print(\"=\" * 70)\n",
    "print(\"🐕 DOGE CRYPTOCURRENCY PRICE PREDICTION REPORT\")\n",
    "print(\"=\" * 70)\n",
    "print(f\"📅 Report Generated: {datetime.now().strftime('%Y-%m-%d %H:%M:%S')}\")\n",
    "print(f\"🤖 Model: LSTM Neural Network\")\n",
    "print(f\"📊 Analysis Period: {doge_data['Date'].min().date()} to {doge_data['Date'].max().date()}\")\n",
    "print()\n",
    "\n",
    "# Current Market Status\n",
    "print(\"📊 CURRENT MARKET STATUS\")\n",
    "print(\"-\" * 30)\n",
    "print(f\"Current DOGE Price:     ${current_price:.6f}\")\n",
    "print(f\"All-Time High:          ${doge_data['Close'].max():.6f}\")\n",
    "print(f\"All-Time Low:           ${doge_data['Close'].min():.6f}\")\n",
    "print(f\"Distance from ATH:      {((current_price / doge_data['Close'].max()) * 100):.1f}%\")\n",
    "print(f\"7-Day Moving Average:   ${doge_data['MA_7'].iloc[-1]:.6f}\")\n",
    "print(f\"30-Day Moving Average:  ${doge_data['MA_30'].iloc[-1]:.6f}\")\n",
    "print()\n",
    "\n",
    "# Prediction Summary\n",
    "print(\"🔮 30-DAY PRICE PREDICTIONS\")\n",
    "print(\"-\" * 30)\n",
    "pred_min = predictions_df['Predicted_Price'].min()\n",
    "pred_max = predictions_df['Predicted_Price'].max()\n",
    "pred_avg = predictions_df['Predicted_Price'].mean()\n",
    "\n",
    "print(f\"Prediction Range:       ${pred_min:.6f} - ${pred_max:.6f}\")\n",
    "print(f\"Average Prediction:     ${pred_avg:.6f}\")\n",
    "print(f\"Expected Change:        {((pred_avg / current_price) - 1) * 100:+.1f}%\")\n",
    "print(f\"Best Case Scenario:     {((pred_max / current_price) - 1) * 100:+.1f}%\")\n",
    "print(f\"Worst Case Scenario:    {((pred_min / current_price) - 1) * 100:+.1f}%\")\n",
    "\n",
    "# Trend Analysis\n",
    "bullish_days = sum(predictions_df['Predicted_Price'] > current_price)\n",
    "bearish_days = len(predictions_df) - bullish_days\n",
    "\n",
    "print(f\"Bullish Days:           {bullish_days}/30 ({(bullish_days/30)*100:.0f}%)\")\n",
    "print(f\"Bearish Days:           {bearish_days}/30 ({(bearish_days/30)*100:.0f}%)\")\n",
    "print()\n",
    "\n",
    "# Key Predictions\n",
    "print(\"📈 KEY PREDICTION MILESTONES\")\n",
    "print(\"-\" * 30)\n",
    "week1_avg = predictions_df['Predicted_Price'].head(7).mean()\n",
    "week2_avg = predictions_df['Predicted_Price'].iloc[7:14].mean()\n",
    "week3_avg = predictions_df['Predicted_Price'].iloc[14:21].mean()\n",
    "week4_avg = predictions_df['Predicted_Price'].iloc[21:28].mean()\n",
    "\n",
    "print(f\"Week 1 Average:         ${week1_avg:.6f} ({((week1_avg/current_price-1)*100):+.1f}%)\")\n",
    "print(f\"Week 2 Average:         ${week2_avg:.6f} ({((week2_avg/current_price-1)*100):+.1f}%)\")\n",
    "print(f\"Week 3 Average:         ${week3_avg:.6f} ({((week3_avg/current_price-1)*100):+.1f}%)\")\n",
    "print(f\"Week 4 Average:         ${week4_avg:.6f} ({((week4_avg/current_price-1)*100):+.1f}%)\")\n",
    "print()\n",
    "\n",
    "# Risk Assessment\n",
    "volatility = predictions_df['Predicted_Price'].std()\n",
    "risk_level = \"HIGH\" if volatility > current_price * 0.1 else \"MEDIUM\" if volatility > current_price * 0.05 else \"LOW\"\n",
    "\n",
    "print(\"⚠️  RISK ASSESSMENT\")\n",
    "print(\"-\" * 30)\n",
    "print(f\"Prediction Volatility:  {volatility:.6f}\")\n",
    "print(f\"Risk Level:             {risk_level}\")\n",
    "print(f\"Max Potential Loss:     {((pred_min/current_price-1)*100):.1f}%\")\n",
    "print(f\"Max Potential Gain:     {((pred_max/current_price-1)*100):+.1f}%\")\n",
    "print()\n",
    "\n",
    "# Overall Recommendation\n",
    "if pred_avg > current_price * 1.05:\n",
    "    recommendation = \"🟢 BULLISH - Model suggests significant upward movement\"\n",
    "    recommendation_text = \"BULLISH - Model suggests significant upward movement\"\n",
    "elif pred_avg < current_price * 0.95:\n",
    "    recommendation = \"🔴 BEARISH - Model suggests significant downward movement\"\n",
    "    recommendation_text = \"BEARISH - Model suggests significant downward movement\"\n",
    "else:\n",
    "    recommendation = \"🟡 NEUTRAL - Model suggests sideways movement\"\n",
    "    recommendation_text = \"NEUTRAL - Model suggests sideways movement\"\n",
    "\n",
    "print(\"🎯 MODEL RECOMMENDATION\")\n",
    "print(\"-\" * 30)\n",
    "print(recommendation)\n",
    "print()\n",
    "\n",
    "print(\"⚠️  IMPORTANT DISCLAIMERS\")\n",
    "print(\"-\" * 30)\n",
    "print(\"• This analysis is for educational purposes only\")\n",
    "print(\"• Cryptocurrency markets are highly volatile and unpredictable\")\n",
    "print(\"• Past performance does not guarantee future results\")\n",
    "print(\"• Always do your own research before making investment decisions\")\n",
    "print(\"• Never invest more than you can afford to lose\")\n",
    "print(\"=\" * 70)\n",
    "\n",
    "# Save summary to a text file (without emoji characters for file compatibility)\n",
    "summary_text = f\"\"\"DOGE Price Prediction Summary - {datetime.now().strftime('%Y-%m-%d')}\n",
    "================================================================\n",
    "Current Price: ${current_price:.6f}\n",
    "Average 30-day Prediction: ${pred_avg:.6f}\n",
    "Expected Change: {((pred_avg / current_price) - 1) * 100:+.1f}%\n",
    "Risk Level: {risk_level}\n",
    "Recommendation: {recommendation_text}\n",
    "\n",
    "Generated by LSTM Neural Network Model\n",
    "\n",
    "Technical Analysis:\n",
    "- 7-Day Moving Average: ${doge_data['MA_7'].iloc[-1]:.6f}\n",
    "- 30-Day Moving Average: ${doge_data['MA_30'].iloc[-1]:.6f}\n",
    "- Current Volatility: {doge_data['Volatility'].iloc[-1]:.6f}\n",
    "\n",
    "Prediction Details:\n",
    "- Prediction Range: ${pred_min:.6f} - ${pred_max:.6f}\n",
    "- Bullish Days: {bullish_days}/30 ({(bullish_days/30)*100:.0f}%)\n",
    "- Bearish Days: {bearish_days}/30 ({(bearish_days/30)*100:.0f}%)\n",
    "\n",
    "Weekly Predictions:\n",
    "- Week 1: ${week1_avg:.6f} ({((week1_avg/current_price-1)*100):+.1f}%)\n",
    "- Week 2: ${week2_avg:.6f} ({((week2_avg/current_price-1)*100):+.1f}%)\n",
    "- Week 3: ${week3_avg:.6f} ({((week3_avg/current_price-1)*100):+.1f}%)\n",
    "- Week 4: ${week4_avg:.6f} ({((week4_avg/current_price-1)*100):+.1f}%)\n",
    "\n",
    "DISCLAIMER: This analysis is for educational purposes only.\n",
    "Do not use for investment decisions without further research.\n",
    "\"\"\"\n",
    "\n",
    "try:\n",
    "    with open('../reports/doge_prediction_summary.txt', 'w', encoding='utf-8') as f:\n",
    "        f.write(summary_text)\n",
    "    print(\"📄 Summary report saved to '../reports/doge_prediction_summary.txt'\")\n",
    "except Exception as e:\n",
    "    print(f\"❌ Error saving summary report: {e}\")\n",
    "    print(\"💡 Summary report content generated successfully (see above output)\")"
   ]
  }
 ],
 "metadata": {
  "kernelspec": {
   "display_name": ".venv",
   "language": "python",
   "name": "python3"
  },
  "language_info": {
   "codemirror_mode": {
    "name": "ipython",
    "version": 3
   },
   "file_extension": ".py",
   "mimetype": "text/x-python",
   "name": "python",
   "nbconvert_exporter": "python",
   "pygments_lexer": "ipython3",
   "version": "3.13.0"
  }
 },
 "nbformat": 4,
 "nbformat_minor": 5
}
